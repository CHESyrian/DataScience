{
 "cells": [
  {
   "cell_type": "markdown",
   "metadata": {},
   "source": [
    "<p style=\"height:100px;line-height:100px;font-size:46px;background-color:lime;color:white;padding-left:12px;\">\n",
    "    MatPlotLib\n",
    "</p>"
   ]
  },
  {
   "cell_type": "code",
   "execution_count": null,
   "metadata": {},
   "outputs": [],
   "source": [
    "import numpy as np\n",
    "import pandas as pd\n",
    "import matplotlib.pyplot as mpp\n",
    "from mpl_toolkits import mplot3d"
   ]
  },
  {
   "cell_type": "markdown",
   "metadata": {},
   "source": [
    "### <code>mpp.style('')</code> : <code>bmh, classic, dark_background, fivethirtyeight, ggplot, greyscale, seaborn-bright, seaborn-colorblind, seaborn-dark, seaborn-dark-palette, seaborn-deep, seaborn-muted, seaborn-notebook, seaborn-poster, seaborn-darkgrid, seaborn-paper, seaborn-pastel, seaborn-talk, seaborn-ticks, seaborn-white, seaborn-whitegrid</code>\n",
    "### <code>mpp.plot(data,color='',linestyle='', linewidth=i,marker='',markersize=i,'r-.',)</code>"
   ]
  },
  {
   "cell_type": "code",
   "execution_count": null,
   "metadata": {},
   "outputs": [],
   "source": [
    "df =pd.read_csv('C:\\\\Users\\\\asus_r\\\\Desktop\\\\Data Center\\\\Data\\\\Common Size Analysis.csv')"
   ]
  },
  {
   "cell_type": "code",
   "execution_count": null,
   "metadata": {},
   "outputs": [],
   "source": [
    "mpp.xlabel('Year')\n",
    "mpp.ylabel('Value')\n",
    "mpp.title('Common-Size')\n",
    "mpp.plot(df['Year'], df['2008'], color='blue', marker='o', markersize=8) #color = ['blue','g','0.75','#45f6cc',(1.0,0.7,0.3)]\n",
    "#ax = mpp.axes()\n",
    "#ax.set_xlabel('TSTST')\n",
    "#ax.set_ylabel('JIJJI')\n",
    "#ax.set_title('ehekjvkev')\n",
    "#or\n",
    "#ax.set(xlabel='egergre', ylabel='vdvsvsv', title='ddfvdvdf')"
   ]
  },
  {
   "cell_type": "code",
   "execution_count": null,
   "metadata": {},
   "outputs": [],
   "source": [
    "DF = df.set_index('Year')\n",
    "b = DF.iloc[0,:]\n",
    "c = DF.iloc[1,:]\n",
    "d = DF.iloc[2,:]\n",
    "e = DF.iloc[3,:]\n",
    "f = DF.iloc[4,:]\n",
    "g = DF.iloc[5,:]\n",
    "DF_2 = pd.DataFrame({'Cash':b, 'Inventory':c, 'AccountsRexeivable':d, 'NetPlantAndEquipme':e, 'Intangibles':f, \n",
    "                     'TotalAssets':g}, index=['2008', '2009', '2010', '2011', '2012', '2013'])\n",
    "DF_2"
   ]
  },
  {
   "cell_type": "code",
   "execution_count": null,
   "metadata": {},
   "outputs": [],
   "source": [
    "mpp.plot(DF_2['Cash'], color='g', linestyle='--', marker='x')\n",
    "#linestyle = ['--','-','-.',':' or 'dashed','solid','dashdot','dotted' also 'o','-o','^','.','<','>',',','v','1','2','3','4','8','p','P','*','h','+','x','d','_','|']\n",
    "#we can add color with linestyle --> 'r^','g<'..."
   ]
  },
  {
   "cell_type": "code",
   "execution_count": null,
   "metadata": {},
   "outputs": [],
   "source": [
    "mpp.plot(DF_2['TotalAssets'], 'y--', linewidth=4)"
   ]
  },
  {
   "cell_type": "code",
   "execution_count": null,
   "metadata": {},
   "outputs": [],
   "source": [
    "mpp.errorbar(DF_2['Cash'], DF_2['TotalAssets'], yerr=100, xerr=8, fmt='x', color='y', ecolor='r', elinewidth=4)"
   ]
  },
  {
   "cell_type": "markdown",
   "metadata": {},
   "source": [
    "### <code>mpp.scatter(data [x,y], c='color' or list, s=size(int) or list, alpha=i)</code>"
   ]
  },
  {
   "cell_type": "code",
   "execution_count": null,
   "metadata": {},
   "outputs": [],
   "source": [
    "mpp.scatter(DF_2['Cash'], DF_2['TotalAssets'], c=['yellow','green'], s=[300,90,80,120,400,1200], alpha=0.2)\n",
    "#mpp.axis('equal')"
   ]
  },
  {
   "cell_type": "markdown",
   "metadata": {},
   "source": [
    "### <code>mpp.pie(data, labels=(), explode=[], autopct='', shadow=boolean, startangle=number, labeldistance=number, pctdistance=number)</code>\n",
    "### <code>pie(x, explode, labels, colors, autopct, pctdistance, shadow, labeldistance, startangle, radius, counterclock, wedgeprops, textprops, center, frame, rotatelabels, hold, data)</code>"
   ]
  },
  {
   "cell_type": "code",
   "execution_count": null,
   "metadata": {},
   "outputs": [],
   "source": [
    "mpp.pie(DF_2['Cash'], labels=(DF_2.index), explode=[0, 0, 0, 0, 0, 0.12], autopct='%1.1f%%', shadow=True, startangle=60, labeldistance=2.2, pctdistance=1.3)\n",
    "mpp.axis('equal')"
   ]
  },
  {
   "cell_type": "markdown",
   "metadata": {},
   "source": [
    "### <code>mpp.bar(data, color, width, alpha, facecolor, edgecolor)</code>\n",
    "### <code>mpp.text(number, number, 'title', style='', ha='', va='', bbox={'alpha', 'facecolor', 'edgecolor', 'pad', })</code>"
   ]
  },
  {
   "cell_type": "code",
   "execution_count": null,
   "metadata": {},
   "outputs": [],
   "source": [
    "mpp.bar(DF_2['Cash'], DF_2['TotalAssets'], color='cyan', width= 0.4, alpha=0.7, edgecolor='black')\n",
    "mpp.text(405, -1400, 'Cash on TotalAssets', style='italic', bbox={'pad':10, 'alpha':0.4, 'edgecolor':'black', 'facecolor':'yellow'})\n",
    "for x1, y1 in zip(DF_2['Cash'], DF_2['TotalAssets']):\n",
    "    mpp.text(x1, y1, '%.2f'%y1, ha='center', va='bottom')\n",
    "    mpp.text(x1, 0, '%.2f'%x1, ha='left', va='bottom')\n",
    "    "
   ]
  },
  {
   "cell_type": "markdown",
   "metadata": {},
   "source": [
    "### <code>mpp.hist(data, bins, normed, alpha, histtype='bar, filled, step, stepfilled', color, )</code>\n",
    "### <code>mpp.hist2d(x, y, bins, cmap, )</code>\n",
    "### <code>mpp.hexbin(x, y, gridsize, cmap,  bins, xscale, yscale, extent, cmap, norm, vmin, vmax, alpha, linewidths, edgecolors, reduce_C_function, mincnt, marginals, hold, data, **kwargs)</code>"
   ]
  },
  {
   "cell_type": "code",
   "execution_count": null,
   "metadata": {},
   "outputs": [],
   "source": [
    "data = np.random.randn(80)\n",
    "mpp.hist(data, bins=10, histtype='bar')"
   ]
  },
  {
   "cell_type": "code",
   "execution_count": null,
   "metadata": {},
   "outputs": [],
   "source": [
    "x = data = np.random.randn(80)\n",
    "y = data = np.random.randn(80)\n",
    "mpp.hist2d(x, y, cmap='Reds', bins=20)\n",
    "mpp.colorbar()"
   ]
  },
  {
   "cell_type": "code",
   "execution_count": null,
   "metadata": {},
   "outputs": [],
   "source": [
    "mpp.hexbin(x, y, gridsize=20, cmap='Greens')"
   ]
  },
  {
   "cell_type": "code",
   "execution_count": null,
   "metadata": {},
   "outputs": [],
   "source": [
    "#mpp.contour(x, y, z, color, cmap)\n",
    "#mpp.contourf(s, y, z, color, cmap)\n",
    "#mpp.clabel(data with countour, inline=T F, fontsize, )\n",
    "#mpp.imshow()"
   ]
  },
  {
   "cell_type": "code",
   "execution_count": null,
   "metadata": {},
   "outputs": [],
   "source": [
    "x = np.random.randint(0, 10, size=10)\n",
    "y = np.random.randint(10, 20, size=10)\n",
    "#z = np.random.randint(0, 5, (len(x), len(y)))\n",
    "z = [[1, 2, 3, 4, 5, 5, 4, 3, 2, 1],\n",
    "     [2, 3, 4, 4, 3, 4, 4, 3, 2, 1],\n",
    "     [5, 4, 3, 2, 1, 1, 2, 3, 4, 5],\n",
    "     [1, 2, 3, 5, 4, 4, 5, 3, 2, 1],\n",
    "     [5, 5, 5, 5, 5, 5, 5, 5, 5, 5],\n",
    "     [1, 1, 1, 1, 1, 1, 1, 1, 1, 1],\n",
    "     [1, 2, 3, 5, 4, 4, 5, 3, 2, 1],\n",
    "     [5, 4, 3, 2, 1, 1, 2, 3, 4 ,5],\n",
    "     [2, 3, 4, 4, 3, 4, 4, 3, 2, 1],\n",
    "     [1, 2, 3, 4, 5, 5, 4, 3, 2, 1]]"
   ]
  },
  {
   "cell_type": "code",
   "execution_count": null,
   "metadata": {},
   "outputs": [],
   "source": [
    "x, y, z"
   ]
  },
  {
   "cell_type": "code",
   "execution_count": null,
   "metadata": {},
   "outputs": [],
   "source": [
    "mpp.contour(x, y, z, colors='red')"
   ]
  },
  {
   "cell_type": "code",
   "execution_count": null,
   "metadata": {},
   "outputs": [],
   "source": [
    "def f_plot(x, y):\n",
    "    point = (np.sin(x)**24 + np.cos(y)**12) % np.cos(x+y)\n",
    "    return point\n",
    "x = np.linspace(0, 5, 50)\n",
    "y = np.linspace(0, 5, 50)\n",
    "X, Y = np.meshgrid(x, y)\n",
    "z = f_plot(X, Y)"
   ]
  },
  {
   "cell_type": "code",
   "execution_count": null,
   "metadata": {},
   "outputs": [],
   "source": [
    "cnt = mpp.contour(x, y, z, colors='black')"
   ]
  },
  {
   "cell_type": "code",
   "execution_count": null,
   "metadata": {},
   "outputs": [],
   "source": [
    "mpp.contourf(x, y, z, 30, cmap='magma_r')"
   ]
  },
  {
   "cell_type": "code",
   "execution_count": null,
   "metadata": {},
   "outputs": [],
   "source": [
    "mpp.clabel(cnt, inline=True, fontsize=14)\n",
    "mpp.imshow(z, extent=[0, 10, 0, 10], cmap='magma_r', alpha=0.4)\n",
    "mpp.colorbar()"
   ]
  },
  {
   "cell_type": "code",
   "execution_count": null,
   "metadata": {},
   "outputs": [],
   "source": [
    "#3D\n",
    "#mpl_toolkits.mplot3d"
   ]
  },
  {
   "cell_type": "code",
   "execution_count": null,
   "metadata": {},
   "outputs": [],
   "source": [
    "fig = mpp.figure()\n",
    "ax = mplot3d.Axes3D(fig)\n",
    "x = np.arange(-10, 10, 0.5)\n",
    "y = np.arange(-10, 10, 0.5)\n",
    "X, Y = np.meshgrid(x, y) #make it couple\n",
    "R = np.sin(Y)*np.cos(X)\n",
    "Z = np.sin(R)\n",
    "ax.plot_surface(X, Y, Z, cmap='hot')\n",
    "ax.set_xlabel('Time')\n",
    "ax.set_ylabel('Ysak')\n",
    "ax.set_zlabel('Jcbaskjc')\n",
    "ax.view_init(30, 45)\n",
    "mpp.show()"
   ]
  },
  {
   "cell_type": "code",
   "execution_count": null,
   "metadata": {},
   "outputs": [],
   "source": [
    "fig_2 = mpp.figure()\n",
    "ax_2 = mplot3d.Axes3D(fig_2)\n",
    "clr = 10*np.random.random(1600)\n",
    "ax_2.scatter3D(X, Y, Z, c=clr, cmap='hot')\n",
    "mpp.show()"
   ]
  },
  {
   "cell_type": "code",
   "execution_count": null,
   "metadata": {},
   "outputs": [],
   "source": [
    "fig_3 = mpp.figure()\n",
    "ax_3 = mplot3d.Axes3D(fig_3)\n",
    "ax_3.contour3D(X, Y, Z, 100, cmap='Greens')"
   ]
  },
  {
   "cell_type": "code",
   "execution_count": null,
   "metadata": {
    "scrolled": true
   },
   "outputs": [],
   "source": [
    "DF_2"
   ]
  },
  {
   "cell_type": "code",
   "execution_count": null,
   "metadata": {},
   "outputs": [],
   "source": [
    "mpp.subplot('321')\n",
    "mpp.plot(DF_2['Cash'], c='gold')\n",
    "mpp.subplot('322')\n",
    "mpp.plot(DF_2['Inventory'], c='b')\n",
    "mpp.subplot('323')\n",
    "mpp.plot(DF_2['AccountsRexeivable'], c='cyan')\n",
    "mpp.subplot('324')\n",
    "mpp.plot(DF_2['NetPlantAndEquipme'], c='g')\n",
    "mpp.subplot('325')\n",
    "mpp.plot(DF_2['Intangibles'], c='orange')\n",
    "mpp.subplot('326')\n",
    "mpp.plot(DF_2['TotalAssets'], c='r')\n",
    "mpp.subplots_adjust(left=1, right=3, bottom=1, top=4, hspace=0, wspace=0)"
   ]
  },
  {
   "cell_type": "markdown",
   "metadata": {},
   "source": [
    "<p style=\"height:240px;line-height:100px;font-size:64px;background-color:cyan;color:white;padding:20px auto;text-align:center;border:2px outset gold;border-radius:8px;\">\n",
    "    Created by:<br/> <code>Tarek Ghajary</code>\n",
    "</p>"
   ]
  },
  {
   "cell_type": "code",
   "execution_count": null,
   "metadata": {},
   "outputs": [],
   "source": []
  }
 ],
 "metadata": {
  "kernelspec": {
   "display_name": "Python 3",
   "language": "python",
   "name": "python3"
  },
  "language_info": {
   "codemirror_mode": {
    "name": "ipython",
    "version": 3
   },
   "file_extension": ".py",
   "mimetype": "text/x-python",
   "name": "python",
   "nbconvert_exporter": "python",
   "pygments_lexer": "ipython3",
   "version": "3.7.6"
  }
 },
 "nbformat": 4,
 "nbformat_minor": 2
}
