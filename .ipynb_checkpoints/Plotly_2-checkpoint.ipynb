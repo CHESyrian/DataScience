{
 "cells": [
  {
   "cell_type": "markdown",
   "id": "18a2a629-197d-43db-a411-71d51bdc42a1",
   "metadata": {},
   "source": [
    "<p style=\"height:100px;line-height:100px;background-color:lime;color:black;font-size:46px;padding-left:12px;\">\n",
    "    Plotly\n",
    "</p>"
   ]
  },
  {
   "cell_type": "markdown",
   "id": "83f8e1cd-3b6f-4b56-934d-43a5c736bcb3",
   "metadata": {},
   "source": [
    "# **Index**\n",
    "- [Bar Charts with `plotly.express`](#1)\n",
    "- [Bar Charts with `plotly.graph_objects`](#2)\n",
    "- [Line Charts with `plotly.express`](#3)\n",
    "- [Scatter Charts with `plotly.express`](#4)\n",
    "- [Scatter Charts with `plotly.graph_objects`](#5)\n",
    "- [Pie Charts with `plotly.express`](#6)\n",
    "- [Pie Charts with `plotly.graph_objects`](#7)\n",
    "- [Box Plots with `plotly.express`](#8)\n",
    "- [Box Plots with `plotly.graph_objects`](#9)\n",
    "- [Dist Plots with `plotly.figure_factory`](#10)\n",
    "- [Histograms with `plotly.express`](#11)\n",
    "- [Histograms with `plotly.graph_ojects`](#12)\n",
    "- [Contour Plots with `plotly.graph_objects`](#13)\n",
    "- [Heatmap Charts with `plotly.graph_objects`](#14)"
   ]
  },
  {
   "cell_type": "code",
   "execution_count": null,
   "id": "71ff290d-e5d6-4a59-a3cf-d9fc9fa57622",
   "metadata": {},
   "outputs": [],
   "source": []
  },
  {
   "cell_type": "markdown",
   "id": "b2e3f7aa-f13b-42bc-bd77-feae38312720",
   "metadata": {},
   "source": [
    "# **1.**\n",
    "<p id=\"1\" style=\"height:50px;line-height:50px;background-color:yellow;color:black;font-size:24px;padding-left:26px;\">\n",
    "    \n",
    "</p>"
   ]
  },
  {
   "cell_type": "code",
   "execution_count": null,
   "id": "5542db43-03c5-4035-8c15-02975012541a",
   "metadata": {},
   "outputs": [],
   "source": []
  },
  {
   "cell_type": "code",
   "execution_count": null,
   "id": "87898919-1198-4d7d-9372-0fdff2d8605b",
   "metadata": {},
   "outputs": [],
   "source": []
  },
  {
   "cell_type": "code",
   "execution_count": null,
   "id": "7c2f89d9-27d9-45e1-b82c-b5e7f8ebc159",
   "metadata": {},
   "outputs": [],
   "source": []
  },
  {
   "cell_type": "markdown",
   "id": "a54b7dfb-c34c-428d-abd5-e36726f356ec",
   "metadata": {},
   "source": [
    "# Source\n",
    "<p style=\"height:80px;line-height:80px;background-color:black;color:gold;font-size:24px;padding-left:26px;\">\n",
    "    <a href=\"https://plotly.com/python\" style=\"color:blue;\">Plotly Docs<a>\n",
    "</p>\n"
   ]
  },
  {
   "cell_type": "markdown",
   "id": "2c9cf3b2-4d6f-474f-b68a-fcc2dc116fb0",
   "metadata": {},
   "source": [
    "<p style=\"height:240px;line-height:100px;font-size:64px;background-color:cyan;color:white;padding:20px auto;text-align:center;border:2px outset gold;border-radius:8px;\">\n",
    "    Created by:<br/> <code>Tarek Ghajary</code>\n",
    "</p>"
   ]
  },
  {
   "cell_type": "code",
   "execution_count": null,
   "id": "f4eaade7-0782-441b-9133-3e908af6dd99",
   "metadata": {},
   "outputs": [],
   "source": []
  }
 ],
 "metadata": {
  "kernelspec": {
   "display_name": "Python 3 (ipykernel)",
   "language": "python",
   "name": "python3"
  },
  "language_info": {
   "codemirror_mode": {
    "name": "ipython",
    "version": 3
   },
   "file_extension": ".py",
   "mimetype": "text/x-python",
   "name": "python",
   "nbconvert_exporter": "python",
   "pygments_lexer": "ipython3",
   "version": "3.11.5"
  }
 },
 "nbformat": 4,
 "nbformat_minor": 5
}
