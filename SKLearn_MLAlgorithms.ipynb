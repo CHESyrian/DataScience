{
 "cells": [
  {
   "cell_type": "markdown",
   "metadata": {},
   "source": [
    "<p style=\"height:100px;line-height:100px;font-size:46px;background-color:lime;color:white;padding-left:12px;\">\n",
    "    SciKit-Learn\n",
    "</p>"
   ]
  },
  {
   "cell_type": "markdown",
   "metadata": {},
   "source": [
    "## Importing Libraries"
   ]
  },
  {
   "cell_type": "code",
   "execution_count": null,
   "metadata": {},
   "outputs": [],
   "source": [
    "from sklearn.linear_model import LinearRegression, Ridge, Lasso, SGDRegressor, LogisticRegression, SGDClassifier\n",
    "from sklearn.neural_network import MLPRegressor, MLPClassifier\n",
    "from sklearn.svm import SVR, SVC\n",
    "from sklearn.cluster import KMeans, MiniBatchKMeans, AgglomerativeClustering, DBSCAN\n",
    "from sklearn.decomposition import PCA\n",
    "from sklearn.tree import DecisionTreeRegressor, DecisionTreeClassifier\n",
    "from sklearn.ensemble import RandomForestRegressor, RandomForestClassifier, GradientBoostingRegressor, \\\n",
    "                             GradientBoostingClassifier, VotingClassifier\n",
    "from sklearn.neighbors import KNeighborsRegressor, KNeighborsClassifier, NearestNeighbors\n",
    "from sklearn.naive_bayes import GaussianNB, MultinomialNB, BernoulliNB\n",
    "from sklearn.discriminant_analysis import LinearDiscriminantAnalysis, QuadraticDiscriminantAnalysis\n",
    "from sklearn.metrics import mean_absolute_error, mean_squared_error, median_absolute_error, f1_score, SCORERS, \\\n",
    "                            recall_score, precision_score, accuracy_score, confusion_matrix\n",
    "from sklearn.datasets import load_breast_cancer\n",
    "from sklearn.model_selection import cross_val_score, cross_validate, cross_val_predict, train_test_split\n",
    "import matplotlib.pyplot as mpp\n",
    "import seaborn as sb"
   ]
  },
  {
   "cell_type": "markdown",
   "metadata": {},
   "source": [
    "1. Linear Regression\n",
    "    1. Linear Regression\n",
    "    2. Ridge\n",
    "    3. Lasso\n",
    "    4. SGD Regressor\n",
    "2. Logistic Regression\n",
    "    1. Logistic Regression\n",
    "    2. SGD Classifier\n",
    "3. Neural Network\n",
    "    1. MLP Regressor\n",
    "    2. MLP Classifier\n",
    "4. SVM\n",
    "    1. SVR\n",
    "    2. SVC\n",
    "5. Cluster  ---> Unsupervise\n",
    "    1. K-Means\n",
    "    2. MiniBatchKMeans\n",
    "    3. Agglomerative Clustering\n",
    "    4. DBSCAN\n",
    "6. Decompositionabs\n",
    "    1. PCA\n",
    "7. Tree\n",
    "    1. decision Tree Regressor\n",
    "    2. Decision Tree Classifier\n",
    "8. Ensemble\n",
    "    1. Random Forest Regressor\n",
    "    2. Random Forest Classifier\n",
    "    3. Voting Classifier\n",
    "9. Neighbors\n",
    "    1. KNeighbors Regressor\n",
    "    2. KNeighbors Classifier\n",
    "    3. Nearest Neighbors\\\n",
    "10. Naive Bayes\n",
    "     1. GaussianNB\n",
    "     2. MultinomialNB\n",
    "     3. BernoulliNB\n",
    "11. Discriminant Analysis\n",
    "     1. LinearDiscriminantAnalysis\n",
    "     2. QuadraticDiscriminantAnalysis"
   ]
  },
  {
   "cell_type": "markdown",
   "metadata": {},
   "source": [
    "## Loading and Spliting Data"
   ]
  },
  {
   "cell_type": "code",
   "execution_count": null,
   "metadata": {},
   "outputs": [],
   "source": [
    "BreastData = load_breast_cancer()"
   ]
  },
  {
   "cell_type": "code",
   "execution_count": null,
   "metadata": {},
   "outputs": [],
   "source": [
    "X = BreastData.data\n",
    "y = BreastData.target\n",
    "X.shape, y.shape"
   ]
  },
  {
   "cell_type": "code",
   "execution_count": null,
   "metadata": {},
   "outputs": [],
   "source": [
    "X_train, X_test, y_train, y_test= train_test_split(X, y, test_size=0.33, random_state=42 , shuffle=True)"
   ]
  },
  {
   "cell_type": "markdown",
   "metadata": {},
   "source": [
    "## LinearRegression"
   ]
  },
  {
   "cell_type": "code",
   "execution_count": null,
   "metadata": {},
   "outputs": [],
   "source": [
    "LinearRegrissionModel = LinearRegression(fit_intercept=True, normalize=True, copy_X=True, n_jobs=-1)\n",
    "LinearRegrissionModel.fit(X_train, y_train)"
   ]
  },
  {
   "cell_type": "code",
   "execution_count": null,
   "metadata": {},
   "outputs": [],
   "source": [
    "LinearRegrissionModel.score(X_train, y_train), LinearRegrissionModel.coef_"
   ]
  },
  {
   "cell_type": "code",
   "execution_count": null,
   "metadata": {},
   "outputs": [],
   "source": [
    "y_pred = LinearRegrissionModel.predict(X_test)"
   ]
  },
  {
   "cell_type": "code",
   "execution_count": null,
   "metadata": {},
   "outputs": [],
   "source": [
    "MeAEValue = mean_absolute_error(y_test, y_pred, multioutput='uniform_average')\n",
    "MeAEValue"
   ]
  },
  {
   "cell_type": "markdown",
   "metadata": {},
   "source": [
    "### <code>sklearn.linear_model.Ridge(alpha=1.0, fit_intercept=True, normalize=False, copy_X=True, max_iter=None, tol=0.001,  solver='auto', random_state=None)</code>\n"
   ]
  },
  {
   "cell_type": "code",
   "execution_count": null,
   "metadata": {},
   "outputs": [],
   "source": [
    "RidgeModel = Ridge(alpha=0.4, random_state=42)\n",
    "RidgeModel.fit(X_train, y_train)"
   ]
  },
  {
   "cell_type": "code",
   "execution_count": null,
   "metadata": {},
   "outputs": [],
   "source": [
    "RidgeModel.score(X_train, y_train), RidgeModel.score(X_test, y_test)"
   ]
  },
  {
   "cell_type": "markdown",
   "metadata": {},
   "source": [
    "### <code>sklearn.linear_model.Lasso(alpha=1.0, fit_intercept=True, normalize=False, precompute= False, copy_X=True, max_iter=1000, tol=0.0001,  warm_start=False, positive=False, random_state=None,selection='cyclic')</code>"
   ]
  },
  {
   "cell_type": "code",
   "execution_count": null,
   "metadata": {},
   "outputs": [],
   "source": [
    "LassoModel = Lasso(alpha=0.3, random_state=42)\n",
    "LassoModel.fit(X_train, y_train)"
   ]
  },
  {
   "cell_type": "code",
   "execution_count": null,
   "metadata": {},
   "outputs": [],
   "source": [
    "LassoModel.score(X_train, y_train)"
   ]
  },
  {
   "cell_type": "code",
   "execution_count": null,
   "metadata": {},
   "outputs": [],
   "source": [
    "LassoModel.coef_"
   ]
  },
  {
   "cell_type": "markdown",
   "metadata": {},
   "source": [
    "### <code>sklearn.linear_model.SGDRegressor(loss='squared_loss’, penalty=’l2’, alpha=0.0001, l1_ratio=0.15, fit_intercept=True, max_iter=None, tol=None, shuffle=True, verbose=0, epsilon=0.1, random_state=None, learning_rate='invscaling’, eta0=0.01, power_t=0.25, early_stopping=False, validation_fraction=0.1, n_iter_no_change=5, warm_start=False, average=False, n_iter=None)</code>"
   ]
  },
  {
   "cell_type": "code",
   "execution_count": null,
   "metadata": {},
   "outputs": [],
   "source": [
    "SGDRegressorModel = SGDRegressor(loss='squared_loss', penalty='l2', alpha=0.04, random_state=42)\n",
    "SGDRegressorModel.fit(X_train, y_train)"
   ]
  },
  {
   "cell_type": "code",
   "execution_count": null,
   "metadata": {},
   "outputs": [],
   "source": [
    "SGDRegressorModel.score(X_test, y_test), SGDRegressorModel.score(X_train, y_train), SGDRegressorModel.coef_"
   ]
  },
  {
   "cell_type": "markdown",
   "metadata": {},
   "source": [
    "## LogisticRegression"
   ]
  },
  {
   "cell_type": "markdown",
   "metadata": {},
   "source": [
    "### <code>linear_model.LogisticRegression(penalty='l2’,dual=False,tol=0.0001,C=1.0,fit_intercept=True,intercept_scaling=1, class_weight=None,random_state=None,solver='warn’,max_iter=100,multi_class='warn’,  verbose=0,warm_start=False, n_jobs=None)</code>\n",
    "### solver=['liblinear', 'newton-cg', 'lbfgs', 'sag', 'saga']"
   ]
  },
  {
   "cell_type": "code",
   "execution_count": null,
   "metadata": {},
   "outputs": [],
   "source": [
    "LogisticRegressionModel = LogisticRegression(penalty='l1', random_state=42, solver='liblinear', C=1.0, max_iter=500)\n",
    "LogisticRegressionModel.fit(X_train, y_train)"
   ]
  },
  {
   "cell_type": "code",
   "execution_count": null,
   "metadata": {},
   "outputs": [],
   "source": [
    "LogisticRegressionModel.score(X_train, y_train), LogisticRegressionModel.classes_, LogisticRegressionModel.n_iter_"
   ]
  },
  {
   "cell_type": "markdown",
   "metadata": {},
   "source": [
    "### <code>sklearn.linear_model.SGDClassifier(loss='hinge’, penalty=’l2’, alpha=0.0001,l1_ratio=0.15, fit_intercept=True, max_iter=None,tol=None, shuffle=True, verbose=0, epsilon=0.1,n_jobs=None, random_state=None, learning_rate='optimal’, eta0=0.0, power_t=0.5, early_stopping=False,  validation_fraction=0.1,n_iter_no_change=5, class_weight=None,warm_start=False,  average=False, n_iter=None)</code>\n",
    "### learnin_rate = [constant, optimal, invscaling, adaptive]"
   ]
  },
  {
   "cell_type": "code",
   "execution_count": null,
   "metadata": {},
   "outputs": [],
   "source": [
    "SGDCalssifierModel = SGDClassifier(penalty='l2', loss='squared_loss', random_state=42, learning_rate='optimal')\n",
    "SGDCalssifierModel.fit(X_train, y_train)"
   ]
  },
  {
   "cell_type": "code",
   "execution_count": null,
   "metadata": {},
   "outputs": [],
   "source": [
    "SGDCalssifierModel.score(X_train ,y_train)"
   ]
  },
  {
   "cell_type": "code",
   "execution_count": null,
   "metadata": {},
   "outputs": [],
   "source": [
    "y_pred = SGDCalssifierModel.predict(X_test)\n",
    "confusion_matrix(y_pred, y_test)"
   ]
  },
  {
   "cell_type": "markdown",
   "metadata": {},
   "source": [
    "## Neural Network"
   ]
  },
  {
   "cell_type": "markdown",
   "metadata": {},
   "source": [
    "### <code>sklearn.neural_network.MLPRegressor(hidden_layer_sizes=(100, ), activation='relu’, solver=’adam’, alpha=0.0001, batch_size='auto’, learning_rate=’constant’, learning_rate_init=0.001, power_t=0.5,  max_iter=200, shuffle=True, random_state=None,tol=0.0001, verbose=False,  warm_start=False, momentum=0.9, nesterovs_momentum=True, early_stopping=False, validation_fraction=0.1 ,beta_1=0.9, beta_2=0.999, epsilon=1E-08, n_iter_no_change=10)</code>\n",
    "### activation = [identity , logistic , relu, tanh]\n",
    "### solver = [sgd , adam, lbfgs]\n",
    "### learnig_rate = [invscaling , adaptive]"
   ]
  },
  {
   "cell_type": "code",
   "execution_count": null,
   "metadata": {},
   "outputs": [],
   "source": [
    "MLPRegressorModel = MLPRegressor(activation='tanh', solver='adam', alpha=0.01, learning_rate='adaptive', random_state=42)\n",
    "MLPRegressorModel.fit(X_train, y_train)"
   ]
  },
  {
   "cell_type": "code",
   "execution_count": null,
   "metadata": {},
   "outputs": [],
   "source": [
    "y_pred = MLPRegressorModel.predict(X_test)\n",
    "y_train_pred = MLPRegressorModel.predict(X_train)"
   ]
  },
  {
   "cell_type": "code",
   "execution_count": null,
   "metadata": {},
   "outputs": [],
   "source": [
    "fig = mpp.figure()\n",
    "ax1 = fig.add_subplot(111)\n",
    "ax1.scatter(y_train, y_train_pred, s=1, c='b', marker=\"s\", label='real')\n",
    "ax1.scatter(y_test, y_pred, s=10, c='r', marker=\"v\", label='NN Prediction')\n",
    "mpp.show()"
   ]
  },
  {
   "cell_type": "markdown",
   "metadata": {},
   "source": [
    "### <code>sklearn.neural_network.MLPClassifier(hidden_layer_sizes=(100, ), activation='relu', solver='adam', alpha=0.0001,  batch_size='auto', learning_rate='constant',momentum=0.9, learning_rate_init=0.001,  power_t=0.5,max_iter=200, shuffle=True, random_state=None, tol=0.0001, verbose=False,  warm_start=False, n_iter_no_change=10, nesterovs_momentum=True,early_stopping=False,  validation_fraction=0.1,beta_1=0.9, beta_2=0.999, epsilon=1E-08,)</code>"
   ]
  },
  {
   "cell_type": "code",
   "execution_count": null,
   "metadata": {},
   "outputs": [],
   "source": [
    "MLPClassifierModel = MLPClassifier(hidden_layer_sizes=(132, 6), activation='relu', solver='adam', alpha=0.005, \n",
    "                                  learning_rate='constant',early_stopping=False)\n",
    "MLPClassifierModel.fit(X_train, y_train)"
   ]
  },
  {
   "cell_type": "code",
   "execution_count": null,
   "metadata": {},
   "outputs": [],
   "source": [
    "MLPClassifierModel.score(X_train, y_train)"
   ]
  },
  {
   "cell_type": "markdown",
   "metadata": {},
   "source": [
    "## svm - [ SVR - SVC]"
   ]
  },
  {
   "cell_type": "markdown",
   "metadata": {},
   "source": [
    "### <code>sklearn.svm.SVR(kernel=’rbf’, degree=3 --> use with kernel='poly', gamma=’auto_deprecated’, coef0=0.0, tol=0.001, C=1.0, epsilon=0.1, shrinking=True,  cache_size=200, verbose=False,max_iter=-1)</code>\n",
    "### kernel = [linear, poly, rbf, sigmoid, precomputed]"
   ]
  },
  {
   "cell_type": "code",
   "execution_count": null,
   "metadata": {},
   "outputs": [],
   "source": [
    "SVRModel = SVR(kernel='rbf', C=6500.0, epsilon=0.19, gamma='scale')\n",
    "SVRModel.fit(X_train, y_train)"
   ]
  },
  {
   "cell_type": "code",
   "execution_count": null,
   "metadata": {},
   "outputs": [],
   "source": [
    "SVRModel.score(X_train, y_train), SVRModel.score(X_test, y_test)"
   ]
  },
  {
   "cell_type": "markdown",
   "metadata": {},
   "source": [
    "### <code>sklearn.svm.SVC(C=1.0, kernel=’rbf’, degree=3, gamma=’auto_deprecated’, coef0=0.0, shrinking=True, probability=False,  tol=0.001, cache_size=200, class_weight=None,verbose=False, max_iter=-1,  decision_function_shape='ovr’, random_state=None)</code>\n",
    "### kernel = [linear, poly, rbf, sigmoid, precomputed]"
   ]
  },
  {
   "cell_type": "code",
   "execution_count": null,
   "metadata": {},
   "outputs": [],
   "source": [
    "SVCModel = SVC(C=270.0, kernel='rbf', random_state=42, gamma='scale')\n",
    "SVCModel.fit(X_train, y_train)"
   ]
  },
  {
   "cell_type": "code",
   "execution_count": null,
   "metadata": {},
   "outputs": [],
   "source": [
    "y_pred = SVCModel.predict(X_test)\n",
    "CM = confusion_matrix(y_test, y_pred)\n",
    "CM"
   ]
  },
  {
   "cell_type": "code",
   "execution_count": null,
   "metadata": {},
   "outputs": [],
   "source": [
    "sb.heatmap(CM, center=True)\n",
    "mpp.show()"
   ]
  },
  {
   "cell_type": "code",
   "execution_count": null,
   "metadata": {},
   "outputs": [],
   "source": [
    "SVCModel.score(X_test, y_test), SVCModel.score(X_train, y_train)"
   ]
  },
  {
   "cell_type": "markdown",
   "metadata": {},
   "source": [
    "## Cluster - Unsupervise"
   ]
  },
  {
   "cell_type": "markdown",
   "metadata": {},
   "source": [
    "### <code>sklearn.cluster.KMeans(n_clusters=8, init='k-means++’, n_init=10, max_iter=300,tol=0.0001,precompute_distances='auto’, verbose=0, random_state=None, copy_x=True, n_jobs=None, algorithm='auto’)</code>\n",
    "### init=['K-means++', 'random']\n",
    "### algorithm=['auto', 'full', 'elkan']"
   ]
  },
  {
   "cell_type": "code",
   "execution_count": null,
   "metadata": {},
   "outputs": [],
   "source": [
    "KmeansModel = KMeans(n_clusters=10, init='random', n_init=10, max_iter=500, random_state=42, algorithm='full')\n",
    "KmeansModel.fit(X_train)"
   ]
  },
  {
   "cell_type": "code",
   "execution_count": null,
   "metadata": {},
   "outputs": [],
   "source": [
    "KmeansModel.score(X_train), KmeansModel.score(X_test)"
   ]
  },
  {
   "cell_type": "code",
   "execution_count": null,
   "metadata": {},
   "outputs": [],
   "source": [
    "print(KmeansModel.labels_), print('\\n'), print(KmeansModel.inertia_), print('\\n'), print(KmeansModel.n_iter_)"
   ]
  },
  {
   "cell_type": "markdown",
   "metadata": {},
   "source": [
    "### <code>sklearn.cluster.MiniBatchKMeans(n_clusters=8, init='k-means++’, max_iter=100,batch_size=100, verbose=0,  compute_labels=True,random_state=None, tol=0.0, max_no_improvement=10,init_size=None,  n_init=3, reassignment_ratio=0.01)</code>"
   ]
  },
  {
   "cell_type": "code",
   "execution_count": null,
   "metadata": {},
   "outputs": [],
   "source": [
    "MiniBatchModel = MiniBatchKMeans(n_clusters=6, init='k-means++', random_state=42)\n",
    "MiniBatchModel.fit(X_train)"
   ]
  },
  {
   "cell_type": "code",
   "execution_count": null,
   "metadata": {},
   "outputs": [],
   "source": [
    "MiniBatchModel.inertia_, MiniBatchModel.labels_"
   ]
  },
  {
   "cell_type": "markdown",
   "metadata": {},
   "source": [
    "### <code>sklearn.cluster.AgglomerativeClustering(n_clusters=2, affinity='euclidean’, memory=None, connectivity=None, compute_full_tree='auto’, linkage=’ward’,pooling_func=’deprecated’)</code>\n",
    "### affinity = ['l1', 'l2', 'manhattan', 'cosin', 'precomputed', , default='euclidean’]\n",
    "### linkage = [“ward”, “complete”, “average”, “single”, default='ward']; linkage['ward'] -> affinity['euclidean']"
   ]
  },
  {
   "cell_type": "code",
   "execution_count": null,
   "metadata": {},
   "outputs": [],
   "source": [
    "AgglomerativeClusteringModel = AgglomerativeClustering(n_clusters=2, affinity='euclidean', linkage='ward')\n",
    "y_t_pred = AgglomerativeClusteringModel.fit_predict(X_train)"
   ]
  },
  {
   "cell_type": "code",
   "execution_count": null,
   "metadata": {},
   "outputs": [],
   "source": [
    "CM = confusion_matrix(y_t_pred, y_train)\n",
    "sb.heatmap(CM, center=True), print(CM)"
   ]
  },
  {
   "cell_type": "markdown",
   "metadata": {},
   "source": [
    "### <code>sklearn.cluster.DBSCAN(eps=0.5, min_samples=5, metric='euclidean’, metric_params=None, algorithm='auto’, leaf_size=30, p=None, n_jobs=None)</code>\n",
    "###  algorithm = [‘auto’, ‘ball_tree’, ‘kd_tree’, ‘brute’}\n",
    "###  metric = [\n",
    "### • From scikit-learn: [‘cityblock’, ‘cosine’, ‘euclidean’, ‘l1’, ‘l2’, ‘manhattan’]. These metrics support sparse matrix inputs.\n",
    "### • From scipy.spatial.distance: [‘braycurtis’, ‘canberra’, ‘chebyshev’, ‘correlation’, ‘dice’, ‘hamming’, ‘jaccard’,\n",
    "### ‘kulsinski’, ‘mahalanobis’, ‘minkowski’, ‘rogerstanimoto’, ‘russellrao’, ‘seuclidean’, ‘sokalmichener’,\n",
    "### ‘sokalsneath’, ‘sqeuclidean’, ‘yule’] See the documentation for scipy.spatial.distance for details on\n",
    "### these metrics. These metrics do not support sparse matrix inputs. ]"
   ]
  },
  {
   "cell_type": "code",
   "execution_count": null,
   "metadata": {},
   "outputs": [],
   "source": [
    "DBSCANModel = DBSCAN(eps=1, min_samples=100, metric='euclidean', algorithm='brute', leaf_size=100, p=0.01, n_jobs=-1)\n",
    "y_tr_pred = DBSCANModel.fit_predict(X_train)"
   ]
  },
  {
   "cell_type": "code",
   "execution_count": null,
   "metadata": {},
   "outputs": [],
   "source": [
    "CM = confusion_matrix(y_tr_pred, y_train)\n",
    "sb.heatmap(CM, center=True), print(CM)"
   ]
  },
  {
   "cell_type": "markdown",
   "metadata": {},
   "source": [
    "## Decomposition"
   ]
  },
  {
   "cell_type": "code",
   "execution_count": null,
   "metadata": {},
   "outputs": [],
   "source": [
    "PCAModel = PCA(n_components=3, svd_solver='auto')\n",
    "PCAModel.fit(X_train)"
   ]
  },
  {
   "cell_type": "code",
   "execution_count": null,
   "metadata": {},
   "outputs": [],
   "source": [
    "New = PCAModel.transform(X_train)\n",
    "X_train.shape, New.shape"
   ]
  },
  {
   "cell_type": "code",
   "execution_count": null,
   "metadata": {},
   "outputs": [],
   "source": [
    "PCAModel.score(X_train), PCAModel.score(X_test)"
   ]
  },
  {
   "cell_type": "code",
   "execution_count": null,
   "metadata": {},
   "outputs": [],
   "source": [
    "print(PCAModel.components_)\n",
    "print('======')\n",
    "print(PCAModel.explained_variance_)\n",
    "print('======')\n",
    "print(PCAModel.explained_variance_ratio_)\n",
    "print('======')\n",
    "print(PCAModel.singular_values_)"
   ]
  },
  {
   "cell_type": "markdown",
   "metadata": {},
   "source": [
    "## DecisionTree - Regressor/Classifier"
   ]
  },
  {
   "cell_type": "markdown",
   "metadata": {},
   "source": [
    "### <code>sklearn.tree.DecisionTreeRegressor(criterion='mse’, splitter=’best’, max_depth=None,min_samples_split=2, min_samples_leaf=1,min_weight_fraction_leaf=0.0, max_features=None, random_state=None, max_leaf_nodes=None,min_impurity_decrease=0.0, min_impurity_split=None, presort=False)<code>"
   ]
  },
  {
   "cell_type": "code",
   "execution_count": null,
   "metadata": {},
   "outputs": [],
   "source": [
    "DecisionTreeRegressorModel = DecisionTreeRegressor(criterion='mse', splitter='best', max_depth=5, min_samples_split=2, \n",
    "                                                  min_impurity_decrease=1)\n",
    "DecisionTreeRegressorModel.fit(X_train, y_train)"
   ]
  },
  {
   "cell_type": "code",
   "execution_count": null,
   "metadata": {},
   "outputs": [],
   "source": [
    "DecisionTreeRegressorModel.score(X_train, y_train)"
   ]
  },
  {
   "cell_type": "markdown",
   "metadata": {},
   "source": [
    "### <code>sklearn.tree.DecisionTreeClassifier(criterion='gini’, splitter=’best’, max_depth=None,min_samples_split=2, min_samples_leaf=1,min_weight_fraction_leaf=0.0,max_features=None,  random_state=None, max_leaf_nodes=None,min_impurity_decrease=0.0, min_impurity_split=None, class_weight=None,presort=False)<code>"
   ]
  },
  {
   "cell_type": "code",
   "execution_count": null,
   "metadata": {},
   "outputs": [],
   "source": [
    "DecisionTreeClassifierModel = DecisionTreeClassifier(criterion='gini', max_depth=6, splitter='best', \n",
    "                                                          min_samples_split=2, min_weight_fraction_leaf=0.01)\n",
    "DecisionTreeClassifierModel.fit(X_train, y_train)"
   ]
  },
  {
   "cell_type": "code",
   "execution_count": null,
   "metadata": {},
   "outputs": [],
   "source": [
    "DecisionTreeClassifierModel.score(X_train, y_train), DecisionTreeClassifierModel.score(X_test, y_test)"
   ]
  },
  {
   "cell_type": "markdown",
   "metadata": {},
   "source": [
    "## Enseble - RandomForest/GradientBoosting/Voting"
   ]
  },
  {
   "cell_type": "markdown",
   "metadata": {},
   "source": [
    "### <code>sklearn.ensemble.RandomForestRegressor(n_estimators='warn', criterion=’mse’, max_depth=None, min_samples_split=2, min_samples_leaf=1,min_weight_fraction_leaf=0.0, max_features=’auto’, max_leaf_nodes=None,min_impurity_decrease=0.0, min_impurity_split=None, bootstrap=True,oob_score=False, n_jobs=None, random_state=None, verbose=0,warm_start=False)<code>"
   ]
  },
  {
   "cell_type": "code",
   "execution_count": null,
   "metadata": {},
   "outputs": [],
   "source": [
    "RandomForestRegressorModel = RandomForestRegressor(n_estimators=22, criterion='mse', max_depth=4, min_samples_split=4, \n",
    "                                            verbose=1.0, n_jobs=-1, random_state=42, min_weight_fraction_leaf=0.004)\n",
    "RandomForestRegressorModel.fit(X_train, y_train),"
   ]
  },
  {
   "cell_type": "code",
   "execution_count": null,
   "metadata": {},
   "outputs": [],
   "source": [
    "RandomForestRegressorModel.score(X_train, y_train), RandomForestRegressorModel.score(X_test, y_test)"
   ]
  },
  {
   "cell_type": "markdown",
   "metadata": {},
   "source": [
    "### <code>ensemble.RandomForestClassifier(n_estimators='warn’, criterion=’gini’, max_depth=None, min_samples_split=2, min_samples_leaf=1, min_weight_fraction_leaf=0.0, max_features='auto’, max_leaf_nodes=None, min_impurity_decrease=0.0, min_impurity_split=None, bootstrap=True, oob_score=False, n_jobs=None, random_state=None, verbose=0,warm_start=False, class_weight=None)<code>"
   ]
  },
  {
   "cell_type": "code",
   "execution_count": null,
   "metadata": {},
   "outputs": [],
   "source": [
    "RandomForestClassifierModel = RandomForestClassifier(n_estimators=15, criterion='gini', max_depth=6, min_samples_split=4, \n",
    "                                                verbose=1.0, n_jobs=-1, random_state=42, min_weight_fraction_leaf=0.004, )\n",
    "RandomForestClassifierModel.fit(X_train, y_train)"
   ]
  },
  {
   "cell_type": "code",
   "execution_count": null,
   "metadata": {},
   "outputs": [],
   "source": [
    "RandomForestClassifierModel.score(X_train, y_train), RandomForestClassifierModel.score(X_test, y_test)"
   ]
  },
  {
   "cell_type": "markdown",
   "metadata": {},
   "source": [
    "### <code>sklearn.ensemble.GradientBoostingRegressor(loss='ls’, learning_rate=0.1,n_estimators=100, subsample= 1.0, criterion='friedman_mse’,min_samples_split=2,min_samples_leaf=1, min_weight_fraction_leaf=0.0,max_depth=3,min_impurity_decrease=0.0, min_impurity_split=None,init=None, random_state=None,max_features=None,  alpha=0.9, verbose=0, max_leaf_nodes=None,warm_start=False, presort='auto',  validation_fraction=0.1,n_iter_no_change=None, tol=0.0001)</code>\n",
    "### loss = [‘ls’, ‘lad’, ‘huber’, ‘quantile’]"
   ]
  },
  {
   "cell_type": "code",
   "execution_count": null,
   "metadata": {},
   "outputs": [],
   "source": [
    "GradientBoostingRegressorModel = GradientBoostingRegressor(loss='ls', learning_rate=0.1, n_estimators=10, subsample=1,\n",
    "                                                          criterion='friedman_mse', min_samples_split=2, max_depth=6,\n",
    "                                                          min_weight_fraction_leaf=0.008, alpha=0.01, presort='auto', \n",
    "                                                          validation_fraction=1, tol=0.0001)\n",
    "GradientBoostingRegressorModel.fit(X_train, y_train)"
   ]
  },
  {
   "cell_type": "code",
   "execution_count": null,
   "metadata": {},
   "outputs": [],
   "source": [
    "GradientBoostingRegressorModel.score(X_train, y_train), GradientBoostingRegressorModel.score(X_test, y_test)"
   ]
  },
  {
   "cell_type": "markdown",
   "metadata": {},
   "source": [
    "### <code>ensemble.GradientBoostingClassifier(loss='deviance’, learning_rate=0.1,n_estimators=100, subsample=1.0, criterion='friedman_mse’,min_samples_split=2,min_samples_leaf=1, min_weight_fraction_leaf=0.0,max_depth=3,min_impurity_decrease=0.0, min_impurity_split=None,init=None, random_state=None,max_features=None, verbose=0, max_leaf_nodes=None,warm_start=False, presort='auto’,  validation_fraction=0.1,n_iter_no_change=None, tol=0.0001)<code>"
   ]
  },
  {
   "cell_type": "code",
   "execution_count": null,
   "metadata": {},
   "outputs": [],
   "source": [
    "GradientBoostingClassifierModel = GradientBoostingClassifier(loss='deviance', learning_rate=0.1, n_estimators=10, \n",
    "                                                            subsample=1, criterion='friedman_mse', min_samples_split=2,\n",
    "                                                            max_depth=6, min_weight_fraction_leaf=0.008, tol=0.0001,\n",
    "                                                            presort='auto', validation_fraction=1)\n",
    "GradientBoostingClassifierModel.fit(X_train, y_train)"
   ]
  },
  {
   "cell_type": "code",
   "execution_count": null,
   "metadata": {},
   "outputs": [],
   "source": [
    "GradientBoostingClassifierModel.score(X_train, y_train), GradientBoostingClassifierModel.score(X_test, y_test)"
   ]
  },
  {
   "cell_type": "code",
   "execution_count": null,
   "metadata": {},
   "outputs": [],
   "source": [
    "VotingClassifierModel = VotingClassifier(estimators=[('GradModel', GradientBoostingClassifierModel)], weights=None, n_jobs=-1)\n",
    "VotingClassifierModel.fit(X_train, y_train)"
   ]
  },
  {
   "cell_type": "code",
   "execution_count": null,
   "metadata": {},
   "outputs": [],
   "source": [
    "VotingClassifierModel.score(X_train, y_train)"
   ]
  },
  {
   "cell_type": "markdown",
   "metadata": {},
   "source": [
    "## Neighbors - KNN"
   ]
  },
  {
   "cell_type": "markdown",
   "metadata": {},
   "source": [
    "### <code>sklearn.neighbors.KNeighborsRegressor(n_neighbors=5, weights=, algorithm=’auto’, leaf_size=30, p=2, metric=’minkowski’, metric_params=None,n_jobs=None)</code>\n",
    "### algorithm = [‘auto’, ‘ball_tree’, ‘kd_tree’, ‘brute’]\n",
    "### metrics = [\n",
    "- ### Metrics intended for real-valued vector spaces    :  “euclidean”, “manhattan”, “chebyshev”, “wminkowski”, “seuclidean”,  “mahalanobis”, \n",
    "- ### Metrics intended for two-dimensional vector spaces:  “haversine”, \n",
    "- ### Metrics intended for integer-valued vector spaces :  “hamming”, “canberra”, “braycurtis”,\n",
    "### ]"
   ]
  },
  {
   "cell_type": "code",
   "execution_count": null,
   "metadata": {},
   "outputs": [],
   "source": [
    "KNeighborsRegressorModel = KNeighborsRegressor(n_neighbors=5, algorithm='auto', p=2, leaf_size=24, n_jobs=-1, metric='minkowski')\n",
    "KNeighborsRegressorModel.fit(X_train, y_train)"
   ]
  },
  {
   "cell_type": "code",
   "execution_count": null,
   "metadata": {},
   "outputs": [],
   "source": [
    "KNeighborsRegressorModel.score(X_train, y_train), KNeighborsRegressorModel.score(X_test, y_test)"
   ]
  },
  {
   "cell_type": "markdown",
   "metadata": {},
   "source": [
    "### <code>sklearn.neighbors.KNeighborsClassifier(n_neighbors=5, weights='uniform’, algorithm=’auto’, leaf_size=30, p=2, metric='minkowski’, metric_params=None,n_jobs=None)</code>"
   ]
  },
  {
   "cell_type": "code",
   "execution_count": null,
   "metadata": {},
   "outputs": [],
   "source": [
    "KNeighborsClassifierModel = KNeighborsClassifier(n_neighbors=5, algorithm='auto', p=2, leaf_size=24, n_jobs=-1, \n",
    "                                                metric='minkowski')\n",
    "KNeighborsClassifierModel.fit(X_train, y_train)"
   ]
  },
  {
   "cell_type": "code",
   "execution_count": null,
   "metadata": {},
   "outputs": [],
   "source": [
    "KNeighborsClassifierModel.score(X_train, y_train), KNeighborsClassifierModel.score(X_test, y_test)"
   ]
  },
  {
   "cell_type": "markdown",
   "metadata": {},
   "source": [
    "### <code>sklearn.neighbors.NearestNeighbors(n_neighbors=5, radius=1.0, algorithm='auto’,leaf_size=30, metric='minkowski’, p=2, metric_params=None, n_jobs=None)</code>"
   ]
  },
  {
   "cell_type": "code",
   "execution_count": null,
   "metadata": {},
   "outputs": [],
   "source": [
    "NearestNeighborsModel = NearestNeighbors(n_neighbors=5, radius=1.0, algorithm='auto', leaf_size=30, metric='minkowski',\n",
    "                                        p=2, metric_params=None, n_jobs=-1)\n",
    "NearestNeighborsModel.fit(X_train, y_train)"
   ]
  },
  {
   "cell_type": "code",
   "execution_count": null,
   "metadata": {},
   "outputs": [],
   "source": [
    "NearestNeighborsModel.kneighbors(X_train[:1]), NearestNeighborsModel.radius_neighbors(X_test[:1])"
   ]
  },
  {
   "cell_type": "markdown",
   "metadata": {},
   "source": [
    "## Naive Bayes - GaussianNB/MultinomialNB/BernoulliNB"
   ]
  },
  {
   "cell_type": "markdown",
   "metadata": {},
   "source": [
    "### <code>sklearn.naive_bayes.GaussianNB(priors=None, var_smoothing=1e-09)</code>"
   ]
  },
  {
   "cell_type": "code",
   "execution_count": null,
   "metadata": {},
   "outputs": [],
   "source": [
    "GaussianNBModel = GaussianNB().fit(X_train, y_train)"
   ]
  },
  {
   "cell_type": "code",
   "execution_count": null,
   "metadata": {},
   "outputs": [],
   "source": [
    "GaussianNBModel.score(X_train, y_train), GaussianNBModel.score(X_test, y_test)"
   ]
  },
  {
   "cell_type": "markdown",
   "metadata": {},
   "source": [
    "### <code> naive_bayes.MultinomialNB(alpha=1.0, fit_prior=True, class_prior=None)</code>"
   ]
  },
  {
   "cell_type": "code",
   "execution_count": null,
   "metadata": {},
   "outputs": [],
   "source": [
    "MultinomialNBModel = MultinomialNB(alpha=1.0).fit(X_train, y_train)"
   ]
  },
  {
   "cell_type": "code",
   "execution_count": null,
   "metadata": {},
   "outputs": [],
   "source": [
    "MultinomialNBModel.score(X_train, y_train), MultinomialNBModel.score(X_test, y_test)"
   ]
  },
  {
   "cell_type": "markdown",
   "metadata": {},
   "source": [
    "### <code>sklearn.naive_bayes.BernoulliNB(alpha=1.0, binarize=0.0, fit_prior=True,class_prior=None)</code>"
   ]
  },
  {
   "cell_type": "code",
   "execution_count": null,
   "metadata": {},
   "outputs": [],
   "source": [
    "BernoulliNBModel = BernoulliNB(alpha=1.0, binarize=1).fit(X_train, y_train)"
   ]
  },
  {
   "cell_type": "code",
   "execution_count": null,
   "metadata": {},
   "outputs": [],
   "source": [
    "BernoulliNBModel.score(X_train, y_train), BernoulliNBModel.score(X_test, y_test)"
   ]
  },
  {
   "cell_type": "markdown",
   "metadata": {},
   "source": [
    "## Discriminant Analysis - LDA/QDA"
   ]
  },
  {
   "cell_type": "markdown",
   "metadata": {},
   "source": [
    "### <code>sklearn.discriminant_analysis.LinearDiscriminantAnalysis(solver='svd’,shrinkage=None,priors=None, n_components=None,  store_covariance=False,tol=0.0001)</code>\n",
    "### solver = ['svd', 'lsqr', 'eigen']\n",
    "### shrinkage = [None, 'auto', float between 0-1]"
   ]
  },
  {
   "cell_type": "code",
   "execution_count": null,
   "metadata": {},
   "outputs": [],
   "source": [
    "LinearDiscriminantAnalysisModel = LinearDiscriminantAnalysis(solver='lsqr', shrinkage='auto')\n",
    "LinearDiscriminantAnalysisModel.fit(X_train, y_train)"
   ]
  },
  {
   "cell_type": "code",
   "execution_count": null,
   "metadata": {},
   "outputs": [],
   "source": [
    "LinearDiscriminantAnalysisModel.score(X_train, y_train), LinearDiscriminantAnalysisModel.score(X_test, y_test)"
   ]
  },
  {
   "cell_type": "markdown",
   "metadata": {},
   "source": [
    "### <code>sklearn.discriminant_analysis.QuadraticDiscriminantAnalysis(priors=None,reg_param=0.0,store_covariance=False, tol=0.0001,store_covariances=None)</code>\n",
    "### reg_param [float, optional] Regularizes the covariance estimate as (1-reg_param)*Sigma + reg_param*np.eye(n_features)"
   ]
  },
  {
   "cell_type": "code",
   "execution_count": null,
   "metadata": {},
   "outputs": [],
   "source": [
    "QuadraticDiscriminantAnalysisModel = QuadraticDiscriminantAnalysis(reg_param=0, store_covariance=True)\n",
    "QuadraticDiscriminantAnalysisModel.fit(X_train, y_train)"
   ]
  },
  {
   "cell_type": "code",
   "execution_count": null,
   "metadata": {},
   "outputs": [],
   "source": [
    "QuadraticDiscriminantAnalysisModel.score(X_test, y_test)"
   ]
  },
  {
   "cell_type": "markdown",
   "metadata": {},
   "source": [
    "<p style=\"height:240px;line-height:100px;font-size:64px;background-color:cyan;color:white;padding:20px auto;text-align:center;border:2px outset gold;border-radius:8px;\">\n",
    "    Created by:<br/> <code>Tarek Ghajary</code>\n",
    "</p>"
   ]
  },
  {
   "cell_type": "code",
   "execution_count": null,
   "metadata": {},
   "outputs": [],
   "source": []
  }
 ],
 "metadata": {
  "kernelspec": {
   "display_name": "Python 3",
   "language": "python",
   "name": "python3"
  },
  "language_info": {
   "codemirror_mode": {
    "name": "ipython",
    "version": 3
   },
   "file_extension": ".py",
   "mimetype": "text/x-python",
   "name": "python",
   "nbconvert_exporter": "python",
   "pygments_lexer": "ipython3",
   "version": "3.7.6"
  }
 },
 "nbformat": 4,
 "nbformat_minor": 2
}
