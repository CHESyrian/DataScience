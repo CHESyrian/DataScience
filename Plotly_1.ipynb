{
 "cells": [
  {
   "cell_type": "markdown",
   "id": "eb81bd49-ed68-4084-bbeb-e3492bb98d1a",
   "metadata": {},
   "source": [
    "<p style=\"height:100px;line-height:100px;background-color:lime;color:black;font-size:46px;padding-left:12px;\">\n",
    "    Plotly\n",
    "</p>"
   ]
  },
  {
   "cell_type": "markdown",
   "id": "160bce00-8073-4869-832d-a02cbfb36ca2",
   "metadata": {},
   "source": [
    "# **Index**\n",
    "- [Bar Charts with `plotly.express`](#1)\n",
    "- [Bar Charts with `plotly.graph_objects`](#2)\n",
    "- [Line Charts with `plotly.express`](#3)\n",
    "- [Scatter Charts with `plotly.express`](#4)\n",
    "- [Scatter Charts with `plotly.graph_objects`](#5)\n",
    "- [Pie Charts with `plotly.express`](#6)\n",
    "- [Pie Charts with `plotly.graph_objects`](#7)\n",
    "- [Box Plots with `plotly.express`](#8)\n",
    "- [Box Plots with `plotly.graph_objects`](#9)\n",
    "- [Dist Plots with `plotly.figure_factory`](#10)\n",
    "- [Histograms with `plotly.express`](#11)\n",
    "- [Histograms with `plotly.graph_ojects`](#12)\n",
    "- [Contour Plots with `plotly.graph_objects`](#13)\n",
    "- [Heatmap Charts with `plotly.graph_objects`](#14)"
   ]
  },
  {
   "cell_type": "code",
   "execution_count": null,
   "id": "8dafb7d7-d20b-47d2-a941-22fb31e313be",
   "metadata": {},
   "outputs": [],
   "source": [
    "import numpy as np\n",
    "import pandas as pd\n",
    "import math\n",
    "import datetime\n",
    "import plotly.express as px\n",
    "import plotly.graph_objects as go\n",
    "import plotly.figure_factory as ff\n",
    "from plotly.subplots import make_subplots"
   ]
  },
  {
   "cell_type": "markdown",
   "id": "cd6aeb67-4d74-4c8d-bfe5-a66ef8f2b5da",
   "metadata": {},
   "source": [
    "# **1.**\n",
    "<p id=\"1\" style=\"height:50px;line-height:50px;background-color:yellow;color:black;font-size:24px;padding-left:26px;\">\n",
    "    Bar Charts with Express\n",
    "</p>"
   ]
  },
  {
   "cell_type": "code",
   "execution_count": null,
   "id": "346e657c-93d1-4683-9f2e-60ad74e70a2c",
   "metadata": {},
   "outputs": [],
   "source": [
    "long_df = px.data.medals_long()\n",
    "\n",
    "fig = px.bar(long_df, x=\"nation\", y=\"count\", color=\"medal\", title=\"Long-Form Input\")\n",
    "fig.show()"
   ]
  },
  {
   "cell_type": "code",
   "execution_count": null,
   "id": "22076958-4ec2-4dd1-b6d1-697d1e0b47fb",
   "metadata": {},
   "outputs": [],
   "source": [
    "df = px.data.gapminder().query(\"country == 'France'\")\n",
    "fig = px.bar(df, x='year', y='pop',\n",
    "             hover_data=['lifeExp', 'gdpPercap'], color='lifeExp',\n",
    "             labels={'pop':'population of France'}, height=400)\n",
    "fig.show()"
   ]
  },
  {
   "cell_type": "code",
   "execution_count": null,
   "id": "c0ca8899-ad09-4676-8f39-690ee2d0672a",
   "metadata": {},
   "outputs": [],
   "source": [
    "df = px.data.tips()\n",
    "fig = px.bar(df, x=\"sex\", y=\"total_bill\", color=\"smoker\", barmode=\"group\",\n",
    "             facet_row=\"time\", facet_col=\"day\",\n",
    "             category_orders={\"day\": [\"Thur\", \"Fri\", \"Sat\", \"Sun\"],\n",
    "                              \"time\": [\"Lunch\", \"Dinner\"]})\n",
    "fig.show()"
   ]
  },
  {
   "cell_type": "markdown",
   "id": "88d6bd73-8739-4680-9dd2-34cd5900fbfa",
   "metadata": {},
   "source": [
    "# **2.**\n",
    "<p style=\"height:50px;line-height:50px;background-color:yellow;color:black;font-size:24px;padding-left:26px;\">\n",
    "    Bar Charts with Graph Objects\n",
    "</p>"
   ]
  },
  {
   "cell_type": "code",
   "execution_count": null,
   "id": "45e56862-8597-41ae-a733-f83680ef194f",
   "metadata": {},
   "outputs": [],
   "source": [
    "data = [\n",
    "    go.Bar(\n",
    "        x=['Q1', 'Q2', 'Q3', 'Q4'],\n",
    "        y=[150, 200, 250, 300],\n",
    "        name='New York',\n",
    "        offsetgroup=\"USA\"\n",
    "    ),\n",
    "    go.Bar(\n",
    "        x=['Q1', 'Q2', 'Q3', 'Q4'],\n",
    "        y=[180, 220, 270, 320],\n",
    "        name='Boston',\n",
    "        offsetgroup=\"USA\"\n",
    "    ),\n",
    "    go.Bar(\n",
    "        x=['Q1', 'Q2', 'Q3', 'Q4'],\n",
    "        y=[130, 170, 210, 260],\n",
    "        name='Montreal',\n",
    "        offsetgroup=\"Canada\"\n",
    "    ),\n",
    "    go.Bar(\n",
    "        x=['Q1', 'Q2', 'Q3', 'Q4'],\n",
    "        y=[160, 210, 260, 310],\n",
    "        name='Toronto',\n",
    "        offsetgroup=\"Canada\"\n",
    "    )\n",
    "]\n",
    "\n",
    "layout = go.Layout(\n",
    "    title={\n",
    "        'text': 'Quarterly Sales by City, Grouped by Country'\n",
    "    },\n",
    "    xaxis={\n",
    "        'title': {\n",
    "            'text': 'Quarter'\n",
    "        }\n",
    "    },\n",
    "    yaxis={\n",
    "        'title': {\n",
    "            'text': 'Sales'\n",
    "        }\n",
    "    },\n",
    "    barmode='stack'\n",
    ")\n",
    "\n",
    "fig = go.Figure(data=data, layout=layout)\n",
    "\n",
    "fig.show()"
   ]
  },
  {
   "cell_type": "markdown",
   "id": "0f91cf65-17ec-4778-b344-505b09df3c78",
   "metadata": {},
   "source": [
    "# **3.**\n",
    "<p id=\"3\" style=\"height:50px;line-height:50px;background-color:yellow;color:black;font-size:24px;padding-left:26px;\">\n",
    "    Line Charts with Express\n",
    "</p>"
   ]
  },
  {
   "cell_type": "code",
   "execution_count": null,
   "id": "1c9e2e2a-ca7b-4243-af37-22df1e15ef41",
   "metadata": {},
   "outputs": [],
   "source": [
    "df = px.data.gapminder().query(\"country in ['Canada', 'Botswana']\")\n",
    "\n",
    "fig = px.line(df, x=\"lifeExp\", y=\"gdpPercap\", color=\"country\", text=\"year\", markers=True)\n",
    "fig.update_traces(textposition=\"bottom right\")\n",
    "fig.show()"
   ]
  },
  {
   "cell_type": "markdown",
   "id": "ca58d358-c92a-48df-bfa4-d0d151846f1a",
   "metadata": {},
   "source": [
    "# **4.**\n",
    "<p id=\"4\" style=\"height:50px;line-height:50px;background-color:yellow;color:black;font-size:24px;padding-left:26px;\">\n",
    "    Scatters Charts with Express\n",
    "</p>"
   ]
  },
  {
   "cell_type": "code",
   "execution_count": null,
   "id": "1c121b01-dbd8-40d9-ae8f-af39e73ed48c",
   "metadata": {},
   "outputs": [],
   "source": [
    "df = px.data.iris()\n",
    "fig = px.scatter(df, x=\"sepal_width\", y=\"sepal_length\", color=\"species\",\n",
    "                 size='petal_length', hover_data=['petal_width'])\n",
    "fig.show()"
   ]
  },
  {
   "cell_type": "code",
   "execution_count": null,
   "id": "a5a95b16-3954-46d4-baba-26bd6ec8ee6a",
   "metadata": {},
   "outputs": [],
   "source": [
    "df = px.data.iris()\n",
    "df[\"e\"] = df[\"sepal_width\"]/100\n",
    "fig = px.scatter(df, x=\"sepal_length\", y=\"sepal_width\", marginal_x=\"histogram\", marginal_y=\"rug\", error_x=\"e\", error_y=\"e\", color=\"species\")\n",
    "fig.show()"
   ]
  },
  {
   "cell_type": "code",
   "execution_count": null,
   "id": "e1545fb4-bf6b-4fb2-892b-73756a53c7e5",
   "metadata": {},
   "outputs": [],
   "source": [
    "df = px.data.gapminder()\n",
    "\n",
    "fig = px.scatter(df.query(\"year==2007\"), x=\"gdpPercap\", y=\"lifeExp\",\n",
    "\t         size=\"pop\", color=\"continent\",\n",
    "                 hover_name=\"country\", log_x=True, size_max=60)\n",
    "fig.show()"
   ]
  },
  {
   "cell_type": "code",
   "execution_count": null,
   "id": "382b033d-a884-4524-b49c-a34feaa595d9",
   "metadata": {},
   "outputs": [],
   "source": []
  },
  {
   "cell_type": "markdown",
   "id": "d9d294bd-ab6f-4165-92d0-def34de505d9",
   "metadata": {},
   "source": [
    "# **5.**\n",
    "<p id=\"5\" style=\"height:50px;line-height:50px;background-color:yellow;color:black;font-size:24px;padding-left:26px;\">\n",
    "    Scatter Charts with Graph Objects\n",
    "</p>"
   ]
  },
  {
   "cell_type": "code",
   "execution_count": null,
   "id": "bf26e1ce-3c31-4b8c-8373-dc387ae40538",
   "metadata": {},
   "outputs": [],
   "source": [
    "colors=[120, 125, 130, 135, 140, 145]\n",
    "sizes=[15, 30, 55, 70, 90, 110]\n",
    "\n",
    "fig = go.Figure(data=[go.Scatter(\n",
    "    x=[1, 3.2, 5.4, 7.6, 9.8, 12.5],\n",
    "    y=[1, 3.2, 5.4, 7.6, 9.8, 12.5],\n",
    "    mode='markers',\n",
    "    marker=dict(\n",
    "        color=colors,\n",
    "        size=sizes,\n",
    "        showscale=True, \n",
    "        sizemode='area',\n",
    "        sizeref=2.*max(sizes)/(40.**2),\n",
    "        sizemin=4\n",
    "        )\n",
    ")])\n",
    "\n",
    "fig.show()"
   ]
  },
  {
   "cell_type": "code",
   "execution_count": null,
   "id": "852ed82c-e25d-4c62-8509-b5d26ecbd321",
   "metadata": {},
   "outputs": [],
   "source": [
    "# Load data, define hover text and bubble size\n",
    "data = px.data.gapminder()\n",
    "df_2007 = data[data['year']==2007]\n",
    "df_2007 = df_2007.sort_values(['continent', 'country'])\n",
    "\n",
    "hover_text = []\n",
    "bubble_size = []\n",
    "\n",
    "for index, row in df_2007.iterrows():\n",
    "    hover_text.append(('Country: {country}<br>'+\n",
    "                      'Life Expectancy: {lifeExp}<br>'+\n",
    "                      'GDP per capita: {gdp}<br>'+\n",
    "                      'Population: {pop}<br>'+\n",
    "                      'Year: {year}').format(country=row['country'],\n",
    "                                            lifeExp=row['lifeExp'],\n",
    "                                            gdp=row['gdpPercap'],\n",
    "                                            pop=row['pop'],\n",
    "                                            year=row['year']))\n",
    "    bubble_size.append(math.sqrt(row['pop']))\n",
    "\n",
    "df_2007['text'] = hover_text\n",
    "df_2007['size'] = bubble_size\n",
    "sizeref = 2.*max(df_2007['size'])/(100**2)\n",
    "\n",
    "# Dictionary with dataframes for each continent\n",
    "continent_names = ['Africa', 'Americas', 'Asia', 'Europe', 'Oceania']\n",
    "continent_data = {continent:df_2007.query(\"continent == '%s'\" %continent)\n",
    "                              for continent in continent_names}\n",
    "\n",
    "# Create figure\n",
    "fig = go.Figure()\n",
    "\n",
    "for continent_name, continent in continent_data.items():\n",
    "    fig.add_trace(go.Scatter(\n",
    "        x=continent['gdpPercap'], y=continent['lifeExp'],\n",
    "        name=continent_name, text=continent['text'],\n",
    "        marker_size=continent['size'],\n",
    "        ))\n",
    "\n",
    "# Tune marker appearance and layout\n",
    "fig.update_traces(mode='markers', marker=dict(sizemode='area',\n",
    "                                              sizeref=sizeref, line_width=2))\n",
    "\n",
    "fig.update_layout(\n",
    "    title=dict(text='Life Expectancy v. Per Capita GDP, 2007'),\n",
    "    xaxis=dict(\n",
    "        title=dict(text='GDP per capita (2000 dollars)'),\n",
    "        gridcolor='white',\n",
    "        type='log',\n",
    "        gridwidth=2,\n",
    "    ),\n",
    "    yaxis=dict(\n",
    "        title=dict(text='Life Expectancy (years)'),\n",
    "        gridcolor='white',\n",
    "        gridwidth=2,\n",
    "    ),\n",
    "    paper_bgcolor='rgb(243, 243, 243)',\n",
    "    plot_bgcolor='rgb(243, 243, 243)',\n",
    ")\n",
    "fig.show()\n",
    "\n"
   ]
  },
  {
   "cell_type": "code",
   "execution_count": null,
   "id": "e09b6fb6-f196-40b3-90e9-eaf99f04584d",
   "metadata": {},
   "outputs": [],
   "source": []
  },
  {
   "cell_type": "markdown",
   "id": "4aca41f3-69d2-48db-b4fa-ed3aa28f463e",
   "metadata": {},
   "source": [
    "# **6.**\n",
    "<p id=\"6\" style=\"height:50px;line-height:50px;background-color:yellow;color:black;font-size:24px;padding-left:26px;\">\n",
    "    Pie Charts with Express\n",
    "</p>"
   ]
  },
  {
   "cell_type": "code",
   "execution_count": null,
   "id": "d0323660-c6e4-407f-bf20-4923af8b6f99",
   "metadata": {},
   "outputs": [],
   "source": [
    "df = px.data.tips()\n",
    "fig = px.pie(df, values='tip', names='day', title=\"Tips\", color_discrete_sequence=px.colors.sequential.RdBu)\n",
    "# You can use a Dict in 'color_discrete_sequence'\n",
    "fig.show()"
   ]
  },
  {
   "cell_type": "code",
   "execution_count": null,
   "id": "ca82dc6d-720b-45ae-b73a-ccf7a1614915",
   "metadata": {},
   "outputs": [],
   "source": [
    "df = px.data.gapminder().query(\"year == 2007\").query(\"continent == 'Americas'\")\n",
    "fig = px.pie(df, values='pop', names='country',\n",
    "             title='Population of American continent',\n",
    "             hover_data=['lifeExp'], labels={'lifeExp':'life expectancy'})\n",
    "fig.update_traces(textposition='inside', textinfo='percent+label')\n",
    "fig.update_layout(uniformtext_minsize=12, uniformtext_mode='hide')\n",
    "fig.show()"
   ]
  },
  {
   "cell_type": "markdown",
   "id": "4270d90c-c811-4af1-949f-a535df6e9c55",
   "metadata": {},
   "source": [
    "# **7.**\n",
    "<p id=\"7\" style=\"height:50px;line-height:50px;background-color:yellow;color:black;font-size:24px;padding-left:26px;\">\n",
    "    Pie Charts with Graph Objects\n",
    "</p>"
   ]
  },
  {
   "cell_type": "code",
   "execution_count": null,
   "id": "2f91e92a-3262-46fa-8ab4-13e677bb5920",
   "metadata": {},
   "outputs": [],
   "source": [
    "colors = ['gold', 'mediumturquoise', 'darkorange', 'lightgreen']\n",
    "\n",
    "fig = go.Figure(data=[go.Pie(labels=['Oxygen','Hydrogen','Carbon_Dioxide','Nitrogen'],\n",
    "                             values=[4500,2500,1053,500])])\n",
    "fig.update_traces(hoverinfo='label+percent', textinfo='value', textfont_size=20,\n",
    "                  marker=dict(colors=colors, line=dict(color='#000000', width=2)))\n",
    "fig.show()"
   ]
  },
  {
   "cell_type": "code",
   "execution_count": null,
   "id": "cbdf0c8c-b0b6-436e-bf2c-4ed56d02d7ba",
   "metadata": {},
   "outputs": [],
   "source": [
    "labels = ['Oxygen','Hydrogen','Carbon_Dioxide','Nitrogen']\n",
    "values = [4500, 2500, 1053, 500]\n",
    "\n",
    "fig = go.Figure(data=[go.Pie(labels=labels, values=values, textinfo='label+percent', insidetextorientation='radial', hole=.3, pull=[0, 0, 0.2, 0])])\n",
    "fig.show()"
   ]
  },
  {
   "cell_type": "code",
   "execution_count": null,
   "id": "f5d92436-fe1b-47ba-aa29-d2ffba79b934",
   "metadata": {},
   "outputs": [],
   "source": [
    "labels = [\"US\", \"China\", \"European Union\", \"Russian Federation\", \"Brazil\", \"India\",\n",
    "          \"Rest of World\"]\n",
    "\n",
    "# Create subplots: use 'domain' type for Pie subplot\n",
    "fig = make_subplots(rows=1, cols=2, specs=[[{'type':'domain'}, {'type':'domain'}]])\n",
    "fig.add_trace(go.Pie(labels=labels, values=[16, 15, 12, 6, 5, 4, 42], name=\"GHG Emissions\"),\n",
    "              1, 1)\n",
    "fig.add_trace(go.Pie(labels=labels, values=[27, 11, 25, 8, 1, 3, 25], name=\"CO2 Emissions\"),\n",
    "              1, 2)\n",
    "\n",
    "# Use `hole` to create a donut-like pie chart\n",
    "fig.update_traces(hole=.4, hoverinfo=\"label+percent+name\")\n",
    "\n",
    "fig.update_layout(\n",
    "    title_text=\"Global Emissions 1990-2011\",\n",
    "    # Add annotations in the center of the donut pies.\n",
    "    annotations=[dict(text='GHG', x=sum(fig.get_subplot(1, 1).x) / 2, y=0.5,\n",
    "                      font_size=20, showarrow=False, xanchor=\"center\"),\n",
    "                 dict(text='CO2', x=sum(fig.get_subplot(1, 2).x) / 2, y=0.5,\n",
    "                      font_size=20, showarrow=False, xanchor=\"center\")])\n",
    "fig.show()"
   ]
  },
  {
   "cell_type": "code",
   "execution_count": null,
   "id": "f638daf4-aeee-4280-bca3-61ece5e91d6c",
   "metadata": {},
   "outputs": [],
   "source": [
    "fig =go.Figure(go.Sunburst(\n",
    "    labels=[\"Eve\", \"Cain\", \"Seth\", \"Enos\", \"Noam\", \"Abel\", \"Awan\", \"Enoch\", \"Azura\"],\n",
    "    parents=[\"\", \"Eve\", \"Eve\", \"Seth\", \"Seth\", \"Eve\", \"Eve\", \"Awan\", \"Eve\" ],\n",
    "    values=[10, 14, 12, 10, 2, 6, 6, 4, 4],\n",
    "))\n",
    "fig.update_layout(margin = dict(t=0, l=0, r=0, b=0))\n",
    "\n",
    "fig.show()"
   ]
  },
  {
   "cell_type": "markdown",
   "id": "26e3eb97-8386-4166-b21f-cacdc91b8b90",
   "metadata": {},
   "source": [
    "# **8.**\n",
    "<p id=\"8\" style=\"height:50px;line-height:50px;background-color:yellow;color:black;font-size:24px;padding-left:26px;\">\n",
    "    Box Plots with Express\n",
    "</p>"
   ]
  },
  {
   "cell_type": "code",
   "execution_count": null,
   "id": "ccfdc694-be4c-4094-9821-3475406ec232",
   "metadata": {},
   "outputs": [],
   "source": [
    "df = px.data.tips()\n",
    "fig = px.box(df, x=\"time\", y=\"total_bill\", points=\"all\", color=\"smoker\", notched=True, title=\"Box plot of total bill\", hover_data=[\"day\"])\n",
    "fig.update_traces(quartilemethod=\"exclusive\") # or \"inclusive\", or \"linear\" by default\n",
    "fig.show()"
   ]
  },
  {
   "cell_type": "code",
   "execution_count": null,
   "id": "4baf9794-b901-4c14-bd53-40f862b0de39",
   "metadata": {},
   "outputs": [],
   "source": [
    "df = px.data.tips()\n",
    "fig = px.strip(df, x='day', y='tip')\n",
    "fig.show()"
   ]
  },
  {
   "cell_type": "markdown",
   "id": "953332fc-e7b3-4b13-9314-e3ffc38c555f",
   "metadata": {},
   "source": [
    "# **9.**\n",
    "<p id=\"9\" style=\"height:50px;line-height:50px;background-color:yellow;color:black;font-size:24px;padding-left:26px;\">\n",
    "    Box Plots with Graph Objects\n",
    "</p>"
   ]
  },
  {
   "cell_type": "code",
   "execution_count": null,
   "id": "7459fc3f-0379-4911-b935-e455d7c66f56",
   "metadata": {},
   "outputs": [],
   "source": [
    "data = [1, 2, 3, 4, 5, 6, 7, 8, 9]\n",
    "\n",
    "fig = go.Figure()\n",
    "fig.add_trace(go.Box(y=data, quartilemethod=\"linear\", name=\"Linear Quartile Mode\", line_color='rgb(107,174,214)', boxpoints='all'))\n",
    "fig.add_trace(go.Box(y=data, quartilemethod=\"inclusive\", name=\"Inclusive Quartile Mode\", marker_color = 'darkblue', boxmean='sd'))\n",
    "fig.add_trace(go.Box(y=data, \n",
    "                     quartilemethod=\"exclusive\", \n",
    "                     name=\"Exclusive Quartile Mode\", \n",
    "                     boxpoints='suspectedoutliers', \n",
    "                     marker=dict(\n",
    "                         color='rgb(8,81,156)',\n",
    "                         outliercolor='rgba(219, 64, 82, 0.6)',\n",
    "                         line=dict(\n",
    "                             outliercolor='rgba(219, 64, 82, 0.6)',\n",
    "                             outlierwidth=2)),\n",
    "                     line_color='rgb(8,81,156)'))\n",
    "fig.update_traces(boxpoints='all', jitter=0)\n",
    "fig.show()"
   ]
  },
  {
   "cell_type": "code",
   "execution_count": null,
   "id": "75ad934c-a691-4a45-9360-572c4236fa32",
   "metadata": {},
   "outputs": [],
   "source": [
    "fig = go.Figure()\n",
    "\n",
    "fig.add_trace(go.Box(q1=[ 1, 2, 3 ], median=[ 4, 5, 6 ],\n",
    "                  q3=[ 7, 8, 9 ], lowerfence=[-1, 0, 1],\n",
    "                  upperfence=[7, 8, 9], mean=[ 2.2, 2.8, 3.2 ],\n",
    "                  sd=[ 0.2, 0.4, 0.6 ], notchspan=[ 0.2, 0.4, 0.6 ], name=\"Precompiled Quartiles\"))\n",
    "\n",
    "fig.show()"
   ]
  },
  {
   "cell_type": "code",
   "execution_count": null,
   "id": "eaf6f004-4b7f-4f72-b134-cc2a6f98fbde",
   "metadata": {},
   "outputs": [],
   "source": [
    "x = ['day 1', 'day 1', 'day 1', 'day 1', 'day 1', 'day 1',\n",
    "     'day 2', 'day 2', 'day 2', 'day 2', 'day 2', 'day 2']\n",
    "\n",
    "fig = go.Figure()\n",
    "\n",
    "fig.add_trace(go.Box(\n",
    "    y=[0.2, 0.2, 0.6, 1.0, 0.5, 0.4, 0.2, 0.7, 0.9, 0.1, 0.5, 0.3],\n",
    "    x=x,\n",
    "    name='kale',\n",
    "    marker_color='#3D9970'\n",
    "))\n",
    "fig.add_trace(go.Box(\n",
    "    y=[0.6, 0.7, 0.3, 0.6, 0.0, 0.5, 0.7, 0.9, 0.5, 0.8, 0.7, 0.2],\n",
    "    x=x,\n",
    "    name='radishes',\n",
    "    marker_color='#FF4136'\n",
    "))\n",
    "fig.add_trace(go.Box(\n",
    "    y=[0.1, 0.3, 0.1, 0.9, 0.6, 0.6, 0.9, 1.0, 0.3, 0.6, 0.8, 0.5],\n",
    "    x=x,\n",
    "    name='carrots',\n",
    "    marker_color='#FF851B'\n",
    "))\n",
    "\n",
    "fig.update_layout(\n",
    "    yaxis=dict(\n",
    "        title=dict(\n",
    "            text='normalized moisture')\n",
    "    ),\n",
    "    boxmode='group' # group together boxes of the different traces for each value of x\n",
    ")\n",
    "#fig.update_traces(orientation='h') horizontal box plots\n",
    "fig.show()"
   ]
  },
  {
   "cell_type": "code",
   "execution_count": null,
   "id": "b71238d5-89a5-4a09-aab0-26770553e584",
   "metadata": {},
   "outputs": [],
   "source": [
    "\n",
    "N = 30     # Number of boxes\n",
    "\n",
    "# generate an array of rainbow colors by fixing the saturation and lightness of the HSL\n",
    "# representation of colour and marching around the hue.\n",
    "# Plotly accepts any CSS color format, see e.g. http://www.w3schools.com/cssref/css_colors_legal.asp.\n",
    "c = ['hsl('+str(h)+',50%'+',50%)' for h in np.linspace(0, 360, N)]\n",
    "\n",
    "# Each box is represented by a dict that contains the data, the type, and the colour.\n",
    "# Use list comprehension to describe N boxes, each with a different colour and with different randomly generated data:\n",
    "fig = go.Figure(data=[go.Box(\n",
    "    y=3.5 * np.sin(np.pi * i/N) + i/N + (1.5 + 0.5 * np.cos(np.pi*i/N)) * np.random.rand(10),\n",
    "    marker_color=c[i]\n",
    "    ) for i in range(int(N))])\n",
    "\n",
    "# format the layout\n",
    "fig.update_layout(\n",
    "    xaxis=dict(showgrid=False, zeroline=False, showticklabels=False),\n",
    "    yaxis=dict(zeroline=False, gridcolor='white'),\n",
    "    paper_bgcolor='rgb(233,233,233)',\n",
    "    plot_bgcolor='rgb(233,233,233)',\n",
    ")\n",
    "\n",
    "fig.show()"
   ]
  },
  {
   "cell_type": "code",
   "execution_count": null,
   "id": "81a1748c-40cd-4adc-b4ec-859ef3b194cc",
   "metadata": {},
   "outputs": [],
   "source": [
    "x_data = ['Carmelo Anthony', 'Dwyane Wade',\n",
    "          'Deron Williams', 'Brook Lopez',\n",
    "          'Damian Lillard', 'David West',]\n",
    "\n",
    "N = 50\n",
    "\n",
    "y0 = (10 * np.random.randn(N) + 30).astype(int)\n",
    "y1 = (13 * np.random.randn(N) + 38).astype(int)\n",
    "y2 = (11 * np.random.randn(N) + 33).astype(int)\n",
    "y3 = (9 * np.random.randn(N) + 36).astype(int)\n",
    "y4 = (15 * np.random.randn(N) + 31).astype(int)\n",
    "y5 = (12 * np.random.randn(N) + 40).astype(int)\n",
    "\n",
    "y_data = [y0, y1, y2, y3, y4, y5]\n",
    "\n",
    "colors = ['rgba(93, 164, 214, 0.5)', 'rgba(255, 144, 14, 0.5)', 'rgba(44, 160, 101, 0.5)',\n",
    "          'rgba(255, 65, 54, 0.5)', 'rgba(207, 114, 255, 0.5)', 'rgba(127, 96, 0, 0.5)']\n",
    "\n",
    "fig = go.Figure()\n",
    "\n",
    "for xd, yd, cls in zip(x_data, y_data, colors):\n",
    "        fig.add_trace(go.Box(\n",
    "            y=yd,\n",
    "            name=xd,\n",
    "            boxpoints='all',\n",
    "            jitter=0.5,\n",
    "            whiskerwidth=0.2,\n",
    "            fillcolor=cls,\n",
    "            marker_size=2,\n",
    "            line_width=1)\n",
    "        )\n",
    "\n",
    "fig.update_layout(\n",
    "    title=dict(text='Points Scored by the Top 9 Scoring NBA Players in 2012'),\n",
    "    yaxis=dict(\n",
    "        autorange=True,\n",
    "        showgrid=True,\n",
    "        zeroline=True,\n",
    "        dtick=5,\n",
    "        gridcolor='rgb(255, 255, 255)',\n",
    "        gridwidth=1,\n",
    "        zerolinecolor='rgb(255, 255, 255)',\n",
    "        zerolinewidth=2,\n",
    "    ),\n",
    "    margin=dict(\n",
    "        l=40,\n",
    "        r=30,\n",
    "        b=80,\n",
    "        t=100,\n",
    "    ),\n",
    "    paper_bgcolor='rgb(243, 243, 243)',\n",
    "    plot_bgcolor='rgb(243, 243, 243)',\n",
    "    showlegend=False\n",
    ")\n",
    "\n",
    "fig.show()"
   ]
  },
  {
   "cell_type": "markdown",
   "id": "bc7fab7b-9360-40a6-bdac-507b06cea7bd",
   "metadata": {},
   "source": [
    "# **10.**\n",
    "<p id=\"10\" style=\"height:50px;line-height:50px;background-color:yellow;color:black;font-size:24px;padding-left:26px;\">\n",
    "    Dist Plots with Figure Factory\n",
    "</p>"
   ]
  },
  {
   "cell_type": "code",
   "execution_count": null,
   "id": "f756dd0b-7662-4f4e-918b-ca23160269b9",
   "metadata": {},
   "outputs": [],
   "source": [
    "x1 = np.random.randn(26)\n",
    "x2 = np.random.randn(26) + .5\n",
    "\n",
    "group_labels = ['2014', '2015']\n",
    "\n",
    "rug_text_one = ['a', 'b', 'c', 'd', 'e', 'f', 'g', 'h', 'i', 'j',\n",
    "                'k', 'l', 'm', 'n', 'o', 'p', 'q', 'r', 's', 't',\n",
    "                'u', 'v', 'w', 'x', 'y', 'z']\n",
    "\n",
    "rug_text_two = ['aa', 'bb', 'cc', 'dd', 'ee', 'ff', 'gg', 'hh', 'ii', 'jj',\n",
    "                'kk', 'll', 'mm', 'nn', 'oo', 'pp', 'qq', 'rr', 'ss', 'tt',\n",
    "                'uu', 'vv', 'ww', 'xx', 'yy', 'zz']\n",
    "\n",
    "rug_text = [rug_text_one, rug_text_two] # for hover in rug plot\n",
    "colors = ['rgb(0, 0, 100)', 'rgb(0, 200, 200)']\n",
    "\n",
    "# Create distplot with custom bin_size\n",
    "fig = ff.create_distplot([x1, x2], group_labels, bin_size=.2, rug_text=rug_text, colors=colors)\n",
    "\n",
    "fig.update_layout(title_text='Customized Distplot')\n",
    "fig.show()"
   ]
  },
  {
   "cell_type": "code",
   "execution_count": null,
   "id": "162c80ca-8771-4e87-8086-235457afde63",
   "metadata": {},
   "outputs": [],
   "source": [
    "x1 = np.random.randn(200) - 2\n",
    "x2 = np.random.randn(200)\n",
    "x3 = np.random.randn(200) + 2\n",
    "\n",
    "hist_data = [x1, x2, x3]\n",
    "\n",
    "group_labels = ['Group 1', 'Group 2', 'Group 3']\n",
    "colors = ['#A56CC1', '#A6ACEC', '#63F5EF']\n",
    "\n",
    "# Create distplot with curve_type set to 'normal'\n",
    "fig = ff.create_distplot(hist_data, group_labels, colors=colors, bin_size=.2, show_curve=False, show_rug=False)\n",
    "\n",
    "# Add title\n",
    "fig.update_layout(title_text='Hist and Curve Plot')\n",
    "fig.show()"
   ]
  },
  {
   "cell_type": "code",
   "execution_count": null,
   "id": "aa47b8bf-af01-4654-932c-072f61c413fe",
   "metadata": {},
   "outputs": [],
   "source": [
    "df = pd.DataFrame({'2012': np.random.randn(200),\n",
    "                   '2013': np.random.randn(200)+1})\n",
    "fig = ff.create_distplot([df[c] for c in df.columns], df.columns, bin_size=.25)\n",
    "fig.show()"
   ]
  },
  {
   "cell_type": "markdown",
   "id": "57ed20e4-826a-40cc-b85e-095b6fadef2c",
   "metadata": {},
   "source": [
    "# **11.**\n",
    "<p id=\"11\" style=\"height:50px;line-height:50px;background-color:yellow;color:black;font-size:24px;padding-left:26px;\">\n",
    "    Histograms with Express\n",
    "</p>"
   ]
  },
  {
   "cell_type": "code",
   "execution_count": null,
   "id": "6050343d-ef5e-4a11-a980-f3f03cd4d5f5",
   "metadata": {},
   "outputs": [],
   "source": [
    "df = px.data.tips()\n",
    "fig = px.histogram(df, x=\"day\", category_orders=dict(day=[\"Thur\", \"Fri\", \"Sat\", \"Sun\"]))\n",
    "fig.show()"
   ]
  },
  {
   "cell_type": "code",
   "execution_count": null,
   "id": "eb377a1e-95b3-48b1-a448-138179c468e9",
   "metadata": {},
   "outputs": [],
   "source": [
    "df = px.data.tips()\n",
    "fig = px.histogram(df, x=\"total_bill\", y='tip',\n",
    "                   color=\"sex\", \n",
    "                   marginal=\"rug\", # can be `box`, `violin`\n",
    "                   hover_data=df.columns, \n",
    "                   title='Histogram of bills',\n",
    "                   labels={'total_bill':'total bill'}, # can specify one label per df column\n",
    "                   opacity=0.8,\n",
    "                   log_y=True, # represent bars with log scale\n",
    "                   color_discrete_sequence=['indianred', 'darkblue'], # color of histogram bars\n",
    "                   histfunc='avg', \n",
    "                   text_auto=True\n",
    "                   )\n",
    "fig.show()"
   ]
  },
  {
   "cell_type": "markdown",
   "id": "47c7855d-99f4-45aa-a847-83ecb85d3ac8",
   "metadata": {},
   "source": [
    "# **12.**\n",
    "<p id=\"12\" style=\"height:50px;line-height:50px;background-color:yellow;color:black;font-size:24px;padding-left:26px;\">\n",
    "    Histograms with Graph Objects\n",
    "</p>"
   ]
  },
  {
   "cell_type": "code",
   "execution_count": null,
   "id": "7a88c426-c6c3-4cfe-a1db-5573639d93b2",
   "metadata": {},
   "outputs": [],
   "source": [
    "x = np.random.randn(500)\n",
    "fig = go.Figure(data=[go.Histogram(x=x, histnorm='probability')])\n",
    "\n",
    "fig.show()"
   ]
  },
  {
   "cell_type": "code",
   "execution_count": null,
   "id": "aedc8200-366d-40b8-96e0-c82819d49050",
   "metadata": {},
   "outputs": [],
   "source": [
    "x0 = np.random.randn(500)\n",
    "x1 = np.random.randn(500) + 1\n",
    "\n",
    "fig = go.Figure()\n",
    "fig.add_trace(go.Histogram(\n",
    "    x=x0,\n",
    "    histnorm='percent',\n",
    "    name='control', # name used in legend and hover labels\n",
    "    xbins=dict( # bins used for histogram\n",
    "        start=-4.0,\n",
    "        end=3.0,\n",
    "        size=0.5\n",
    "    ),\n",
    "    marker_color='#EB89B5',\n",
    "    opacity=0.75, \n",
    "    texttemplate=\"%{x}\", textfont_size=20, \n",
    "    cumulative_enabled=True\n",
    "))\n",
    "fig.add_trace(go.Histogram(\n",
    "    x=x1,\n",
    "    histnorm='percent',\n",
    "    name='experimental',\n",
    "    xbins=dict(\n",
    "        start=-3.0,\n",
    "        end=4,\n",
    "        size=0.5\n",
    "    ),\n",
    "    marker_color='#330C73',\n",
    "    opacity=0.75, \n",
    "    texttemplate=\"%{x}\", textfont_size=20, \n",
    "    cumulative_enabled=True\n",
    "))\n",
    "\n",
    "fig.update_layout(\n",
    "    title_text='Sampled Results', # title of plot\n",
    "    xaxis_title_text='Value', # xaxis label\n",
    "    yaxis_title_text='Count', # yaxis label\n",
    "    bargap=0.2, # gap between bars of adjacent location coordinates\n",
    "    bargroupgap=0.1 # gap between bars of the same location coordinates\n",
    ")\n",
    "\n",
    "fig.show()"
   ]
  },
  {
   "cell_type": "markdown",
   "id": "41281792-72e0-457b-ba66-e3af2eddfb46",
   "metadata": {},
   "source": [
    "# **13.**\n",
    "<p id=\"13\" style=\"height:50px;line-height:50px;background-color:yellow;color:black;font-size:24px;padding-left:26px;\">\n",
    "    Contour Plots with Graph Objects\n",
    "</p>"
   ]
  },
  {
   "cell_type": "code",
   "execution_count": null,
   "id": "86f889e0-6aa9-4fe7-9a20-e0b791c910e3",
   "metadata": {},
   "outputs": [],
   "source": [
    "fig = go.Figure(data =\n",
    "    go.Contour(\n",
    "        z=[[10, 10.625, 12.5, 15.625, 20],\n",
    "           [5.625, 6.25, 8.125, 11.25, 15.625],\n",
    "           [2.5, 3.125, 5., 8.125, 12.5],\n",
    "           [0.625, 1.25, 3.125, 6.25, 10.625],\n",
    "           [0, 0.625, 2.5, 5.625, 10]],\n",
    "        colorscale='Hot',\n",
    "        contours=dict(\n",
    "            start=0,\n",
    "            end=8,\n",
    "            size=2, \n",
    "            coloring ='heatmap', # can also be 'lines', or 'none'\n",
    "            showlabels = True, # show labels on contours\n",
    "            labelfont = dict( # label font properties\n",
    "                size = 12,\n",
    "                color = 'white',\n",
    "            )\n",
    "        ), \n",
    "        dx=10,\n",
    "        x0=5,\n",
    "        dy=10,\n",
    "        y0=10, \n",
    "        line_width=2,\n",
    "        colorbar=dict(\n",
    "            title=dict(\n",
    "                text='Color bar title', # title here\n",
    "                side='right',\n",
    "                font=dict(\n",
    "                    size=14,\n",
    "                    family='Arial, sans-serif'\n",
    "                )\n",
    "            ), \n",
    "            thickness=25,\n",
    "            thicknessmode='pixels',\n",
    "            len=0.6,\n",
    "            lenmode='fraction',\n",
    "            outlinewidth=0,\n",
    "            nticks=10, \n",
    "            ticks='outside',\n",
    "            ticklen=5, \n",
    "            tickwidth=1,\n",
    "            showticklabels=True,\n",
    "            tickangle=0, \n",
    "            tickfont_size=12\n",
    "        )\n",
    "    )\n",
    ")\n",
    "\n",
    "fig.show()"
   ]
  },
  {
   "cell_type": "markdown",
   "id": "dc53f866-d40e-4c7b-a93c-ca19ef4ee0f4",
   "metadata": {},
   "source": [
    "# **14.**\n",
    "<p id=\"14\" style=\"height:50px;line-height:50px;background-color:yellow;color:black;font-size:24px;padding-left:26px;\">\n",
    "    Heatmaps with Graph Objects\n",
    "</p>"
   ]
  },
  {
   "cell_type": "code",
   "execution_count": null,
   "id": "321f0427-77f4-4ae5-b826-e14f1f3e924a",
   "metadata": {},
   "outputs": [],
   "source": [
    "np.random.seed(1)\n",
    "\n",
    "programmers = ['Alex','Nicole','Sara','Etienne','Chelsea','Jody','Marianne']\n",
    "\n",
    "base = datetime.datetime.today()\n",
    "dates = base - np.arange(30) * datetime.timedelta(days=1)\n",
    "z = np.random.poisson(size=(len(programmers), len(dates)))\n",
    "\n",
    "fig = go.Figure(data=go.Heatmap(\n",
    "        z=z,\n",
    "        x=dates,\n",
    "        y=programmers,\n",
    "        colorscale='Viridis', \n",
    "        type='heatmap', \n",
    "        text=z,\n",
    "        texttemplate=\"%{text}\",\n",
    "        textfont={\"size\":12}\n",
    "    )\n",
    ")\n",
    "\n",
    "fig.update_layout(\n",
    "    title=dict(text='GitHub commits per day'),\n",
    "    xaxis_nticks=36\n",
    ")\n",
    "\n",
    "fig.show()"
   ]
  },
  {
   "cell_type": "markdown",
   "id": "817f2a85-0f7b-43ea-95a7-69793bc2eb00",
   "metadata": {},
   "source": [
    "# Source\n",
    "<p style=\"height:80px;line-height:80px;background-color:black;color:gold;font-size:24px;padding-left:26px;\">\n",
    "    <a href=\"https://plotly.com/python\" style=\"color:blue;\">Plotly Docs<a>\n",
    "</p>\n"
   ]
  },
  {
   "cell_type": "markdown",
   "id": "36f1d829-c053-4254-ad41-0b2acbd0f0a4",
   "metadata": {},
   "source": [
    "<p style=\"height:240px;line-height:100px;font-size:64px;background-color:cyan;color:white;padding:20px auto;text-align:center;border:2px outset gold;border-radius:8px;\">\n",
    "    Created by:<br/> <code>Tarek Ghajary</code>\n",
    "</p>"
   ]
  },
  {
   "cell_type": "code",
   "execution_count": null,
   "id": "50694015-961c-46d4-8cab-64e63aeb3929",
   "metadata": {},
   "outputs": [],
   "source": []
  }
 ],
 "metadata": {
  "kernelspec": {
   "display_name": "Python 3 (ipykernel)",
   "language": "python",
   "name": "python3"
  },
  "language_info": {
   "codemirror_mode": {
    "name": "ipython",
    "version": 3
   },
   "file_extension": ".py",
   "mimetype": "text/x-python",
   "name": "python",
   "nbconvert_exporter": "python",
   "pygments_lexer": "ipython3",
   "version": "3.11.5"
  }
 },
 "nbformat": 4,
 "nbformat_minor": 5
}
