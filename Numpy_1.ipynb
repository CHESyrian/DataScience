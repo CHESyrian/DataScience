{
 "cells": [
  {
   "cell_type": "code",
   "execution_count": 54,
   "metadata": {},
   "outputs": [],
   "source": [
    "import numpy as np"
   ]
  },
  {
   "cell_type": "code",
   "execution_count": 55,
   "metadata": {},
   "outputs": [
    {
     "data": {
      "text/plain": [
       "(0.8509035245341184,\n",
       " -0.4480736161291701,\n",
       " 1.7320508075688767,\n",
       " 0.49999999999999994)"
      ]
     },
     "execution_count": 55,
     "metadata": {},
     "output_type": "execute_result"
    }
   ],
   "source": [
    "a = np.sin(45)\n",
    "b = np.cos(90)\n",
    "c = np.tan(60*np.pi/180)\n",
    "d = np.sin(np.pi/6)\n",
    "a, b, c, d"
   ]
  },
  {
   "cell_type": "code",
   "execution_count": 56,
   "metadata": {},
   "outputs": [
    {
     "data": {
      "text/plain": [
       "1.0471975511965976"
      ]
     },
     "execution_count": 56,
     "metadata": {},
     "output_type": "execute_result"
    }
   ],
   "source": [
    "x = np.deg2rad(60)\n",
    "x"
   ]
  },
  {
   "cell_type": "code",
   "execution_count": 57,
   "metadata": {},
   "outputs": [
    {
     "data": {
      "text/plain": [
       "(35.0, 45.9, 56.33, 45.236)"
      ]
     },
     "execution_count": 57,
     "metadata": {},
     "output_type": "execute_result"
    }
   ],
   "source": [
    "e = np.round(34.78950)\n",
    "e1 = np.round(45.86824,1)\n",
    "e2 = np.round(56.32889,2)\n",
    "e3 = np.round(45.23628,3)\n",
    "e, e1, e2, e3"
   ]
  },
  {
   "cell_type": "code",
   "execution_count": 58,
   "metadata": {},
   "outputs": [
    {
     "data": {
      "text/plain": [
       "(57.0, 45.0)"
      ]
     },
     "execution_count": 58,
     "metadata": {},
     "output_type": "execute_result"
    }
   ],
   "source": [
    "f1 = np.ceil(56.240)\n",
    "f2 = np.floor(45.996)\n",
    "f1, f2"
   ]
  },
  {
   "cell_type": "code",
   "execution_count": 59,
   "metadata": {},
   "outputs": [
    {
     "name": "stdout",
     "output_type": "stream",
     "text": [
      "4 1024\n"
     ]
    }
   ],
   "source": [
    "g1 = np.mod(40, 6)\n",
    "g2 = np.power(4, 5)\n",
    "print(g1, g2)"
   ]
  },
  {
   "cell_type": "code",
   "execution_count": 60,
   "metadata": {},
   "outputs": [
    {
     "name": "stdout",
     "output_type": "stream",
     "text": [
      "[ 3  5  7  8  9 11]\n"
     ]
    }
   ],
   "source": [
    "h = [3, 5, 7, 8, 9, 11]\n",
    "ar = np.array(h)\n",
    "print(ar)"
   ]
  },
  {
   "cell_type": "code",
   "execution_count": 61,
   "metadata": {},
   "outputs": [
    {
     "name": "stdout",
     "output_type": "stream",
     "text": [
      "[[ 2  3  4]\n",
      " [ 5  6  7]\n",
      " [ 8  9 10]]\n"
     ]
    }
   ],
   "source": [
    "j = [[2, 3, 4], [5, 6, 7], [8, 9, 10]]\n",
    "ar2 = np.array(j)\n",
    "print(ar2)"
   ]
  },
  {
   "cell_type": "code",
   "execution_count": 62,
   "metadata": {},
   "outputs": [
    {
     "name": "stdout",
     "output_type": "stream",
     "text": [
      "[('hasan', 34, 67.9) ('ahmad', 28, 72.5) ('reem', 31, 80.6)]\n"
     ]
    }
   ],
   "source": [
    "k = np.array([('hasan', 34, 67.9), ('ahmad', 28, 72.5), ('reem', 31, 80.6)], \n",
    "            dtype = [('name', 'U5'), ('old', 'i2'), ('mark', 'f4')])\n",
    "print(k)"
   ]
  },
  {
   "cell_type": "code",
   "execution_count": 63,
   "metadata": {},
   "outputs": [
    {
     "name": "stdout",
     "output_type": "stream",
     "text": [
      "[[1.92418420e-312 6.27463370e-322 0.00000000e+000 0.00000000e+000\n",
      "  6.23059386e-307]\n",
      " [5.30276956e+180 3.31033942e-033 6.97935766e-076 3.86226062e-086\n",
      "  3.35710079e-143]\n",
      " [6.01433264e+175 6.93885958e+218 5.56218858e+180 3.94356143e+180\n",
      "  3.05811420e-057]\n",
      " [7.18835943e-067 1.25585535e-075 1.25740299e-071 5.43785078e-143\n",
      "  1.50008929e+248]]\n"
     ]
    }
   ],
   "source": [
    "l = np.empty((4,5))\n",
    "print(l)"
   ]
  },
  {
   "cell_type": "code",
   "execution_count": 64,
   "metadata": {},
   "outputs": [
    {
     "name": "stdout",
     "output_type": "stream",
     "text": [
      "[[0. 0. 0. 0. 0. 0.]\n",
      " [0. 0. 0. 0. 0. 0.]\n",
      " [0. 0. 0. 0. 0. 0.]\n",
      " [0. 0. 0. 0. 0. 0.]\n",
      " [0. 0. 0. 0. 0. 0.]\n",
      " [0. 0. 0. 0. 0. 0.]]\n"
     ]
    }
   ],
   "source": [
    "m = np.zeros((6,6))\n",
    "print(m)"
   ]
  },
  {
   "cell_type": "code",
   "execution_count": 65,
   "metadata": {},
   "outputs": [
    {
     "name": "stdout",
     "output_type": "stream",
     "text": [
      "[[1. 1. 1. 1. 1. 1. 1.]\n",
      " [1. 1. 1. 1. 1. 1. 1.]\n",
      " [1. 1. 1. 1. 1. 1. 1.]\n",
      " [1. 1. 1. 1. 1. 1. 1.]\n",
      " [1. 1. 1. 1. 1. 1. 1.]\n",
      " [1. 1. 1. 1. 1. 1. 1.]]\n"
     ]
    }
   ],
   "source": [
    "n = np.ones((6,7))\n",
    "print(n)"
   ]
  },
  {
   "cell_type": "code",
   "execution_count": 66,
   "metadata": {},
   "outputs": [
    {
     "name": "stdout",
     "output_type": "stream",
     "text": [
      "[[1. 0. 0. 0. 0.]\n",
      " [0. 1. 0. 0. 0.]\n",
      " [0. 0. 1. 0. 0.]\n",
      " [0. 0. 0. 1. 0.]\n",
      " [0. 0. 0. 0. 1.]]\n"
     ]
    }
   ],
   "source": [
    "n2 = np.eye(5)\n",
    "print(n2)"
   ]
  },
  {
   "cell_type": "code",
   "execution_count": 67,
   "metadata": {},
   "outputs": [
    {
     "name": "stdout",
     "output_type": "stream",
     "text": [
      "[[0.16066393 0.94704814 0.7229006 ]\n",
      " [0.50176349 0.30433652 0.19275976]\n",
      " [0.33688777 0.4392833  0.04067636]\n",
      " [0.18479229 0.09654169 0.52680155]]\n"
     ]
    }
   ],
   "source": [
    "nr = np.random.random((4,3))\n",
    "print(nr)"
   ]
  },
  {
   "cell_type": "code",
   "execution_count": 68,
   "metadata": {},
   "outputs": [
    {
     "name": "stdout",
     "output_type": "stream",
     "text": [
      "[-1.27820608  3.67023798  3.35471656 -1.4298245  -0.54545611 -1.01291902\n",
      "  0.29614084 -1.50243856  1.03485873 -0.50358154 -3.16238075 -0.27533365]\n"
     ]
    }
   ],
   "source": [
    "nr1 = np.random.normal(0,3,12)\n",
    "print(nr1)"
   ]
  },
  {
   "cell_type": "code",
   "execution_count": 69,
   "metadata": {},
   "outputs": [
    {
     "name": "stdout",
     "output_type": "stream",
     "text": [
      "53 [4 2 2 2 9] [14 10 11 11 24 11 13 11 17 23] [[ 8  7  2  9]\n",
      " [ 4  2  9 12]\n",
      " [ 2  9  3  7]]\n"
     ]
    }
   ],
   "source": [
    "nr2 = np.random.randint(200)\n",
    "nr3 = np.random.randint(12, size=5)\n",
    "nr4 = np.random.randint(2, 25, size=10)\n",
    "nr5 = np.random.randint(1, 15, (3, 4))\n",
    "print(nr2, nr3, nr4, nr5)"
   ]
  },
  {
   "cell_type": "code",
   "execution_count": 70,
   "metadata": {},
   "outputs": [
    {
     "name": "stdout",
     "output_type": "stream",
     "text": [
      "[0.6583387  0.76515125 0.97177573 0.26778125 0.85983437 0.50960036\n",
      " 0.47810566 0.26108297 0.91165252 0.15077257 0.85155034 0.34450678\n",
      " 0.98877482 0.61630887 0.01245808 0.45134139 0.37830842 0.53768134\n",
      " 0.88230905 0.61234745 0.918323   0.05777356] [[0.69718643 0.03472222 0.69167172 0.08637003 0.14287015 0.15140212]\n",
      " [0.29513649 0.31797549 0.03898499 0.00930366 0.98134275 0.76455413]\n",
      " [0.07533212 0.09263591 0.25440135 0.7842309  0.37033786 0.7126712 ]\n",
      " [0.49626563 0.18114193 0.55933591 0.4356046  0.85304096 0.28624636]] [[[0.38703207 0.60784847 0.02650986 0.22609445]\n",
      "  [0.21159944 0.26071312 0.07013374 0.82634666]\n",
      "  [0.60935751 0.81442719 0.14369895 0.24477815]\n",
      "  [0.99399982 0.36205827 0.32063809 0.27606764]]\n",
      "\n",
      " [[0.76192418 0.66873507 0.72499743 0.29247984]\n",
      "  [0.94472449 0.47952292 0.89525613 0.07144572]\n",
      "  [0.07818381 0.81666105 0.82787864 0.04528791]\n",
      "  [0.47397587 0.58854824 0.20182872 0.49543921]]]\n"
     ]
    }
   ],
   "source": [
    "nr6 = np.random.rand(22)\n",
    "nr7 = np.random.rand(4, 6)\n",
    "nr8 = np.random.rand(2, 4, 4)\n",
    "print(nr6, nr7, nr8)"
   ]
  },
  {
   "cell_type": "code",
   "execution_count": 71,
   "metadata": {},
   "outputs": [
    {
     "data": {
      "text/plain": [
       "11"
      ]
     },
     "execution_count": 71,
     "metadata": {},
     "output_type": "execute_result"
    }
   ],
   "source": [
    "p = [5, 7, 8, 9, 11, 4, 109, 26, 45, 11, 8, 4, 99]\n",
    "np.random.choice(p)"
   ]
  },
  {
   "cell_type": "code",
   "execution_count": 72,
   "metadata": {},
   "outputs": [
    {
     "name": "stdout",
     "output_type": "stream",
     "text": [
      "[99, 5, 4, 8, 9, 7, 4, 11, 11, 8, 109, 26, 45]\n"
     ]
    }
   ],
   "source": [
    "np.random.shuffle(p)\n",
    "print(p)"
   ]
  },
  {
   "cell_type": "code",
   "execution_count": 73,
   "metadata": {},
   "outputs": [
    {
     "name": "stdout",
     "output_type": "stream",
     "text": [
      "[[40 40 40 40 40 40]\n",
      " [40 40 40 40 40 40]\n",
      " [40 40 40 40 40 40]\n",
      " [40 40 40 40 40 40]\n",
      " [40 40 40 40 40 40]]\n"
     ]
    }
   ],
   "source": [
    "q = np.full((5, 6), 40)\n",
    "print(q)"
   ]
  },
  {
   "cell_type": "code",
   "execution_count": 74,
   "metadata": {},
   "outputs": [
    {
     "name": "stdout",
     "output_type": "stream",
     "text": [
      "[[ 0  1  2  3  4]\n",
      " [ 5  6  7  8  9]\n",
      " [10 11 12 13 14]\n",
      " [15 16 17 18 19]]\n"
     ]
    }
   ],
   "source": [
    "r = np.arange(20).reshape(4,5)\n",
    "print(r)"
   ]
  },
  {
   "cell_type": "code",
   "execution_count": 75,
   "metadata": {},
   "outputs": [
    {
     "name": "stdout",
     "output_type": "stream",
     "text": [
      "[[ 0  1  2  3  4  5  6]\n",
      " [ 7  8  9 10 11 12 13]\n",
      " [14 15 16 17 18 19 20]\n",
      " [21 22 23 24 25 26 27]\n",
      " [28 29 30 31 32 33 34]]\n"
     ]
    }
   ],
   "source": [
    "r2 = np.arange(35)\n",
    "r3 = r2.reshape(5, 7)\n",
    "print(r3)"
   ]
  },
  {
   "cell_type": "code",
   "execution_count": 76,
   "metadata": {},
   "outputs": [
    {
     "name": "stdout",
     "output_type": "stream",
     "text": [
      "[[20  2 25  5 21  0 32]\n",
      " [16 13 29 18  3 12 24]\n",
      " [23 26 11  9 31  8  1]\n",
      " [27  7 15 28 30 33 19]\n",
      " [22 17 10  6 34  4 14]]\n"
     ]
    }
   ],
   "source": [
    "np.random.shuffle(r2)\n",
    "r5 = r2.reshape(5, 7)\n",
    "print(r5)"
   ]
  },
  {
   "cell_type": "code",
   "execution_count": 77,
   "metadata": {},
   "outputs": [
    {
     "name": "stdout",
     "output_type": "stream",
     "text": [
      "[ 5.          5.10204082  5.20408163  5.30612245  5.40816327  5.51020408\n",
      "  5.6122449   5.71428571  5.81632653  5.91836735  6.02040816  6.12244898\n",
      "  6.2244898   6.32653061  6.42857143  6.53061224  6.63265306  6.73469388\n",
      "  6.83673469  6.93877551  7.04081633  7.14285714  7.24489796  7.34693878\n",
      "  7.44897959  7.55102041  7.65306122  7.75510204  7.85714286  7.95918367\n",
      "  8.06122449  8.16326531  8.26530612  8.36734694  8.46938776  8.57142857\n",
      "  8.67346939  8.7755102   8.87755102  8.97959184  9.08163265  9.18367347\n",
      "  9.28571429  9.3877551   9.48979592  9.59183673  9.69387755  9.79591837\n",
      "  9.89795918 10.        ] [ 5.          6.66666667  8.33333333 10.         11.66666667 13.33333333\n",
      " 15.         16.66666667 18.33333333 20.        ]\n"
     ]
    }
   ],
   "source": [
    "s = np.linspace(5, 10)\n",
    "s2 = np.linspace(5, 20, 10)\n",
    "print(s, s2)"
   ]
  },
  {
   "cell_type": "code",
   "execution_count": 78,
   "metadata": {},
   "outputs": [
    {
     "name": "stdout",
     "output_type": "stream",
     "text": [
      "[[ 2.  5.  8. 11.]\n",
      " [14. 17. 20. 23.]\n",
      " [26. 29. 32. 35.]]\n"
     ]
    }
   ],
   "source": [
    "s3 = np.linspace(2, 35, 12).reshape(3, 4)\n",
    "print(s3)"
   ]
  },
  {
   "cell_type": "code",
   "execution_count": 79,
   "metadata": {},
   "outputs": [
    {
     "name": "stdout",
     "output_type": "stream",
     "text": [
      "[[2 0 0 0 0]\n",
      " [0 4 0 0 0]\n",
      " [0 0 6 0 0]\n",
      " [0 0 0 7 0]\n",
      " [0 0 0 0 8]]\n"
     ]
    }
   ],
   "source": [
    "t = np.diag(np.array([2, 4, 6, 7, 8]))\n",
    "t2 = np.diag(np.array([3, 6, 7, 1, 4, 9]), k=4)\n",
    "print(t)"
   ]
  },
  {
   "cell_type": "code",
   "execution_count": 80,
   "metadata": {},
   "outputs": [
    {
     "name": "stdout",
     "output_type": "stream",
     "text": [
      "[[0 0 0 0 3 0 0 0 0 0]\n",
      " [0 0 0 0 0 6 0 0 0 0]\n",
      " [0 0 0 0 0 0 7 0 0 0]\n",
      " [0 0 0 0 0 0 0 1 0 0]\n",
      " [0 0 0 0 0 0 0 0 4 0]\n",
      " [0 0 0 0 0 0 0 0 0 9]\n",
      " [0 0 0 0 0 0 0 0 0 0]\n",
      " [0 0 0 0 0 0 0 0 0 0]\n",
      " [0 0 0 0 0 0 0 0 0 0]\n",
      " [0 0 0 0 0 0 0 0 0 0]]\n"
     ]
    }
   ],
   "source": [
    "print(t2)"
   ]
  },
  {
   "cell_type": "code",
   "execution_count": 81,
   "metadata": {},
   "outputs": [
    {
     "data": {
      "text/plain": [
       "5"
      ]
     },
     "execution_count": 81,
     "metadata": {},
     "output_type": "execute_result"
    }
   ],
   "source": [
    "np.count_nonzero(t)"
   ]
  },
  {
   "cell_type": "code",
   "execution_count": 82,
   "metadata": {},
   "outputs": [
    {
     "data": {
      "text/plain": [
       "4"
      ]
     },
     "execution_count": 82,
     "metadata": {},
     "output_type": "execute_result"
    }
   ],
   "source": [
    "np.count_nonzero(t>2)"
   ]
  },
  {
   "cell_type": "code",
   "execution_count": 83,
   "metadata": {},
   "outputs": [
    {
     "data": {
      "text/plain": [
       "array([0, 1, 1, 1, 1], dtype=int64)"
      ]
     },
     "execution_count": 83,
     "metadata": {},
     "output_type": "execute_result"
    }
   ],
   "source": [
    "np.count_nonzero(t>3, axis=1)"
   ]
  },
  {
   "cell_type": "code",
   "execution_count": 84,
   "metadata": {},
   "outputs": [
    {
     "data": {
      "text/plain": [
       "array([0, 0, 1, 1, 1], dtype=int64)"
      ]
     },
     "execution_count": 84,
     "metadata": {},
     "output_type": "execute_result"
    }
   ],
   "source": [
    "np.count_nonzero(t>5, axis=0)"
   ]
  },
  {
   "cell_type": "code",
   "execution_count": 85,
   "metadata": {},
   "outputs": [
    {
     "data": {
      "text/plain": [
       "True"
      ]
     },
     "execution_count": 85,
     "metadata": {},
     "output_type": "execute_result"
    }
   ],
   "source": [
    "np.any(t>5)"
   ]
  },
  {
   "cell_type": "code",
   "execution_count": 86,
   "metadata": {},
   "outputs": [
    {
     "data": {
      "text/plain": [
       "array([ True,  True,  True, False, False])"
      ]
     },
     "execution_count": 86,
     "metadata": {},
     "output_type": "execute_result"
    }
   ],
   "source": [
    "np.all(t<7, axis=1)"
   ]
  },
  {
   "cell_type": "code",
   "execution_count": 87,
   "metadata": {},
   "outputs": [
    {
     "name": "stdout",
     "output_type": "stream",
     "text": [
      "[[False False False False False]\n",
      " [False  True False False False]\n",
      " [False False  True False False]\n",
      " [False False False  True False]\n",
      " [False False False False  True]]\n"
     ]
    }
   ],
   "source": [
    "tt = t>3\n",
    "print(tt)"
   ]
  },
  {
   "cell_type": "code",
   "execution_count": 88,
   "metadata": {},
   "outputs": [
    {
     "name": "stdout",
     "output_type": "stream",
     "text": [
      "[4 6 7 8]\n"
     ]
    }
   ],
   "source": [
    "print(t[tt])"
   ]
  },
  {
   "cell_type": "code",
   "execution_count": 89,
   "metadata": {},
   "outputs": [
    {
     "name": "stdout",
     "output_type": "stream",
     "text": [
      "[]\n"
     ]
    }
   ],
   "source": [
    "print(t[t<0])"
   ]
  },
  {
   "cell_type": "code",
   "execution_count": 90,
   "metadata": {},
   "outputs": [
    {
     "name": "stdout",
     "output_type": "stream",
     "text": [
      "[[16  3  5  9]\n",
      " [ 8 14 12 17]\n",
      " [18  3 14  8]\n",
      " [ 5  3 15  5]]\n"
     ]
    }
   ],
   "source": [
    "cl1 = np.random.randint(1, 20, (4,4))\n",
    "cl2 = np.random.randint(1, 20, (4,4))\n",
    "print(cl1)"
   ]
  },
  {
   "cell_type": "code",
   "execution_count": 91,
   "metadata": {},
   "outputs": [
    {
     "name": "stdout",
     "output_type": "stream",
     "text": [
      "[[ 4  2  7 10]\n",
      " [16  1  4 14]\n",
      " [ 3  4  2 13]\n",
      " [ 6  9  9 14]]\n"
     ]
    }
   ],
   "source": [
    "print(cl2)"
   ]
  },
  {
   "cell_type": "code",
   "execution_count": 92,
   "metadata": {},
   "outputs": [
    {
     "data": {
      "text/plain": [
       "array([[False, False, False, False],\n",
       "       [False, False, False, False],\n",
       "       [False, False, False, False],\n",
       "       [False, False, False, False]])"
      ]
     },
     "execution_count": 92,
     "metadata": {},
     "output_type": "execute_result"
    }
   ],
   "source": [
    "np.isclose(cl1, cl2, rtol=0)"
   ]
  },
  {
   "cell_type": "code",
   "execution_count": 93,
   "metadata": {},
   "outputs": [
    {
     "data": {
      "text/plain": [
       "array([[32,  6, 10, 18],\n",
       "       [16, 28, 24, 34],\n",
       "       [36,  6, 28, 16],\n",
       "       [10,  6, 30, 10]])"
      ]
     },
     "execution_count": 93,
     "metadata": {},
     "output_type": "execute_result"
    }
   ],
   "source": [
    "np.multiply(cl1, 2, out=cl2)"
   ]
  },
  {
   "cell_type": "code",
   "execution_count": 94,
   "metadata": {},
   "outputs": [
    {
     "data": {
      "text/plain": [
       "array([[32768,   216,  1000,  5832],\n",
       "       [ 4096, 21952, 13824, 39304],\n",
       "       [46656,   216, 21952,  4096],\n",
       "       [ 1000,   216, 27000,  1000]])"
      ]
     },
     "execution_count": 94,
     "metadata": {},
     "output_type": "execute_result"
    }
   ],
   "source": [
    "np.power(cl2, 3, out=cl1)"
   ]
  },
  {
   "cell_type": "code",
   "execution_count": 95,
   "metadata": {},
   "outputs": [
    {
     "data": {
      "text/plain": [
       "array([39816, 79176, 72920, 29216])"
      ]
     },
     "execution_count": 95,
     "metadata": {},
     "output_type": "execute_result"
    }
   ],
   "source": [
    "np.add.reduce(cl1, axis=1) #axis=1 --> Rows, axis=0 --> Columns"
   ]
  },
  {
   "cell_type": "code",
   "execution_count": 96,
   "metadata": {},
   "outputs": [
    {
     "data": {
      "text/plain": [
       "array([184320,   6048, 201600,  97920])"
      ]
     },
     "execution_count": 96,
     "metadata": {},
     "output_type": "execute_result"
    }
   ],
   "source": [
    "np.multiply.reduce(cl2, axis=0)"
   ]
  },
  {
   "cell_type": "code",
   "execution_count": 97,
   "metadata": {},
   "outputs": [
    {
     "name": "stdout",
     "output_type": "stream",
     "text": [
      "[[[[1048576  196608  327680  589824]\n",
      "   [ 524288  917504  786432 1114112]\n",
      "   [1179648  196608  917504  524288]\n",
      "   [ 327680  196608  983040  327680]]\n",
      "\n",
      "  [[   6912    1296    2160    3888]\n",
      "   [   3456    6048    5184    7344]\n",
      "   [   7776    1296    6048    3456]\n",
      "   [   2160    1296    6480    2160]]\n",
      "\n",
      "  [[  32000    6000   10000   18000]\n",
      "   [  16000   28000   24000   34000]\n",
      "   [  36000    6000   28000   16000]\n",
      "   [  10000    6000   30000   10000]]\n",
      "\n",
      "  [[ 186624   34992   58320  104976]\n",
      "   [  93312  163296  139968  198288]\n",
      "   [ 209952   34992  163296   93312]\n",
      "   [  58320   34992  174960   58320]]]\n",
      "\n",
      "\n",
      " [[[ 131072   24576   40960   73728]\n",
      "   [  65536  114688   98304  139264]\n",
      "   [ 147456   24576  114688   65536]\n",
      "   [  40960   24576  122880   40960]]\n",
      "\n",
      "  [[ 702464  131712  219520  395136]\n",
      "   [ 351232  614656  526848  746368]\n",
      "   [ 790272  131712  614656  351232]\n",
      "   [ 219520  131712  658560  219520]]\n",
      "\n",
      "  [[ 442368   82944  138240  248832]\n",
      "   [ 221184  387072  331776  470016]\n",
      "   [ 497664   82944  387072  221184]\n",
      "   [ 138240   82944  414720  138240]]\n",
      "\n",
      "  [[1257728  235824  393040  707472]\n",
      "   [ 628864 1100512  943296 1336336]\n",
      "   [1414944  235824 1100512  628864]\n",
      "   [ 393040  235824 1179120  393040]]]\n",
      "\n",
      "\n",
      " [[[1492992  279936  466560  839808]\n",
      "   [ 746496 1306368 1119744 1586304]\n",
      "   [1679616  279936 1306368  746496]\n",
      "   [ 466560  279936 1399680  466560]]\n",
      "\n",
      "  [[   6912    1296    2160    3888]\n",
      "   [   3456    6048    5184    7344]\n",
      "   [   7776    1296    6048    3456]\n",
      "   [   2160    1296    6480    2160]]\n",
      "\n",
      "  [[ 702464  131712  219520  395136]\n",
      "   [ 351232  614656  526848  746368]\n",
      "   [ 790272  131712  614656  351232]\n",
      "   [ 219520  131712  658560  219520]]\n",
      "\n",
      "  [[ 131072   24576   40960   73728]\n",
      "   [  65536  114688   98304  139264]\n",
      "   [ 147456   24576  114688   65536]\n",
      "   [  40960   24576  122880   40960]]]\n",
      "\n",
      "\n",
      " [[[  32000    6000   10000   18000]\n",
      "   [  16000   28000   24000   34000]\n",
      "   [  36000    6000   28000   16000]\n",
      "   [  10000    6000   30000   10000]]\n",
      "\n",
      "  [[   6912    1296    2160    3888]\n",
      "   [   3456    6048    5184    7344]\n",
      "   [   7776    1296    6048    3456]\n",
      "   [   2160    1296    6480    2160]]\n",
      "\n",
      "  [[ 864000  162000  270000  486000]\n",
      "   [ 432000  756000  648000  918000]\n",
      "   [ 972000  162000  756000  432000]\n",
      "   [ 270000  162000  810000  270000]]\n",
      "\n",
      "  [[  32000    6000   10000   18000]\n",
      "   [  16000   28000   24000   34000]\n",
      "   [  36000    6000   28000   16000]\n",
      "   [  10000    6000   30000   10000]]]]\n"
     ]
    }
   ],
   "source": [
    "cl3 = np.multiply.outer(cl1, cl2)\n",
    "print(cl3)"
   ]
  },
  {
   "cell_type": "code",
   "execution_count": 98,
   "metadata": {},
   "outputs": [
    {
     "data": {
      "text/plain": [
       "array([[[[1048576,  196608,  327680,  589824],\n",
       "         [ 524288,  917504,  786432, 1114112],\n",
       "         [1179648,  196608,  917504,  524288],\n",
       "         [ 327680,  196608,  983040,  327680]],\n",
       "\n",
       "        [[   6912,    1296,    2160,    3888],\n",
       "         [   3456,    6048,    5184,    7344],\n",
       "         [   7776,    1296,    6048,    3456],\n",
       "         [   2160,    1296,    6480,    2160]],\n",
       "\n",
       "        [[  32000,    6000,   10000,   18000],\n",
       "         [  16000,   28000,   24000,   34000],\n",
       "         [  36000,    6000,   28000,   16000],\n",
       "         [  10000,    6000,   30000,   10000]],\n",
       "\n",
       "        [[ 186624,   34992,   58320,  104976],\n",
       "         [  93312,  163296,  139968,  198288],\n",
       "         [ 209952,   34992,  163296,   93312],\n",
       "         [  58320,   34992,  174960,   58320]]],\n",
       "\n",
       "\n",
       "       [[[1179648,  221184,  368640,  663552],\n",
       "         [ 589824, 1032192,  884736, 1253376],\n",
       "         [1327104,  221184, 1032192,  589824],\n",
       "         [ 368640,  221184, 1105920,  368640]],\n",
       "\n",
       "        [[ 709376,  133008,  221680,  399024],\n",
       "         [ 354688,  620704,  532032,  753712],\n",
       "         [ 798048,  133008,  620704,  354688],\n",
       "         [ 221680,  133008,  665040,  221680]],\n",
       "\n",
       "        [[ 474368,   88944,  148240,  266832],\n",
       "         [ 237184,  415072,  355776,  504016],\n",
       "         [ 533664,   88944,  415072,  237184],\n",
       "         [ 148240,   88944,  444720,  148240]],\n",
       "\n",
       "        [[1444352,  270816,  451360,  812448],\n",
       "         [ 722176, 1263808, 1083264, 1534624],\n",
       "         [1624896,  270816, 1263808,  722176],\n",
       "         [ 451360,  270816, 1354080,  451360]]],\n",
       "\n",
       "\n",
       "       [[[2672640,  501120,  835200, 1503360],\n",
       "         [1336320, 2338560, 2004480, 2839680],\n",
       "         [3006720,  501120, 2338560, 1336320],\n",
       "         [ 835200,  501120, 2505600,  835200]],\n",
       "\n",
       "        [[ 716288,  134304,  223840,  402912],\n",
       "         [ 358144,  626752,  537216,  761056],\n",
       "         [ 805824,  134304,  626752,  358144],\n",
       "         [ 223840,  134304,  671520,  223840]],\n",
       "\n",
       "        [[1176832,  220656,  367760,  661968],\n",
       "         [ 588416, 1029728,  882624, 1250384],\n",
       "         [1323936,  220656, 1029728,  588416],\n",
       "         [ 367760,  220656, 1103280,  367760]],\n",
       "\n",
       "        [[1575424,  295392,  492320,  886176],\n",
       "         [ 787712, 1378496, 1181568, 1673888],\n",
       "         [1772352,  295392, 1378496,  787712],\n",
       "         [ 492320,  295392, 1476960,  492320]]],\n",
       "\n",
       "\n",
       "       [[[2704640,  507120,  845200, 1521360],\n",
       "         [1352320, 2366560, 2028480, 2873680],\n",
       "         [3042720,  507120, 2366560, 1352320],\n",
       "         [ 845200,  507120, 2535600,  845200]],\n",
       "\n",
       "        [[ 723200,  135600,  226000,  406800],\n",
       "         [ 361600,  632800,  542400,  768400],\n",
       "         [ 813600,  135600,  632800,  361600],\n",
       "         [ 226000,  135600,  678000,  226000]],\n",
       "\n",
       "        [[2040832,  382656,  637760, 1147968],\n",
       "         [1020416, 1785728, 1530624, 2168384],\n",
       "         [2295936,  382656, 1785728, 1020416],\n",
       "         [ 637760,  382656, 1913280,  637760]],\n",
       "\n",
       "        [[1607424,  301392,  502320,  904176],\n",
       "         [ 803712, 1406496, 1205568, 1707888],\n",
       "         [1808352,  301392, 1406496,  803712],\n",
       "         [ 502320,  301392, 1506960,  502320]]]], dtype=int32)"
      ]
     },
     "execution_count": 98,
     "metadata": {},
     "output_type": "execute_result"
    }
   ],
   "source": [
    "np.add.accumulate(cl3)"
   ]
  },
  {
   "cell_type": "code",
   "execution_count": 99,
   "metadata": {},
   "outputs": [
    {
     "data": {
      "text/plain": [
       "array([[[[    1048576,      196608,      327680,      589824],\n",
       "         [     524288,      917504,      786432,     1114112],\n",
       "         [    1179648,      196608,      917504,      524288],\n",
       "         [     327680,      196608,      983040,      327680]],\n",
       "\n",
       "        [[       6912,        1296,        2160,        3888],\n",
       "         [       3456,        6048,        5184,        7344],\n",
       "         [       7776,        1296,        6048,        3456],\n",
       "         [       2160,        1296,        6480,        2160]],\n",
       "\n",
       "        [[      32000,        6000,       10000,       18000],\n",
       "         [      16000,       28000,       24000,       34000],\n",
       "         [      36000,        6000,       28000,       16000],\n",
       "         [      10000,        6000,       30000,       10000]],\n",
       "\n",
       "        [[     186624,       34992,       58320,      104976],\n",
       "         [      93312,      163296,      139968,      198288],\n",
       "         [     209952,       34992,      163296,       93312],\n",
       "         [      58320,       34992,      174960,       58320]]],\n",
       "\n",
       "\n",
       "       [[[          0,   536870912,   536870912,   536870912],\n",
       "         [          0, -2147483648,           0,   536870912],\n",
       "         [-2147483648,   536870912, -2147483648,           0],\n",
       "         [  536870912,   536870912,   536870912,   536870912]],\n",
       "\n",
       "        [[  560463872,   170698752,   474163200,  1536288768],\n",
       "         [ 1213857792,  -577527808, -1563787264,  1186359296],\n",
       "         [ 1850187776,   170698752,  -577527808,  1213857792],\n",
       "         [  474163200,   170698752,   -27498496,   474163200]],\n",
       "\n",
       "        [[ 1270874112,   497664000,  1382400000,   184008704],\n",
       "         [ -756023296, -2046885888,  -627310592, -1199325184],\n",
       "         [  736034816,   497664000, -2046885888,  -756023296],\n",
       "         [ 1382400000,   497664000,  -443301888,  1382400000]],\n",
       "\n",
       "        [[-1500971008,  -337981184,  1447256320,  1253136640],\n",
       "         [-1448984576,  -679418880, -1112731648, -1308579584],\n",
       "         [  717579264,  -337981184,  -679418880, -1448984576],\n",
       "         [ 1447256320,  -337981184,   140404992,  1447256320]]],\n",
       "\n",
       "\n",
       "       [[[          0,           0,           0,           0],\n",
       "         [          0,           0,           0,           0],\n",
       "         [          0,           0,           0,           0],\n",
       "         [          0,           0,           0,           0]],\n",
       "\n",
       "        [[ -134217728, -2112716800,  1990295552, -1208778752],\n",
       "         [-1090519040, -1079771136, -2069889024, -1865973760],\n",
       "         [-1080295424, -2112716800, -1079771136, -1090519040],\n",
       "         [ 1990295552, -2112716800, -2096594944,  1990295552]],\n",
       "\n",
       "        [[          0, -1470103552,  -761266176, -1038090240],\n",
       "         [ 1073741824, -1627389952,   402653184,  1965031424],\n",
       "         [  285212672, -1470103552, -1627389952,  1073741824],\n",
       "         [ -761266176, -1470103552,   920649728,  -761266176]],\n",
       "\n",
       "        [[          0,   241172480,   480247808, -2078277632],\n",
       "         [ 1073741824, -1895825408, -1744830464,  1730150400],\n",
       "         [  553648128,   241172480, -1895825408,  1073741824],\n",
       "         [  480247808,   241172480,    81788928,   480247808]]],\n",
       "\n",
       "\n",
       "       [[[          0,           0,           0,           0],\n",
       "         [          0,           0,           0,           0],\n",
       "         [          0,           0,           0,           0],\n",
       "         [          0,           0,           0,           0]],\n",
       "\n",
       "        [[          0,  2108162048,  -223870976, -1037565952],\n",
       "         [-2147483648, -2105540608, -1476395008,  1529348096],\n",
       "         [  578813952,  2108162048, -2105540608, -2147483648],\n",
       "         [ -223870976,  2108162048,  -953679872,  -223870976]],\n",
       "\n",
       "        [[          0,  -838860800, -1912602624,   771751936],\n",
       "         [          0,  -536870912,           0,  -301989888],\n",
       "         [ -536870912,  -838860800,  -536870912,           0],\n",
       "         [-1912602624,  -838860800,  -301989888, -1912602624]],\n",
       "\n",
       "        [[          0,  -369098752,   704643072,   167772160],\n",
       "         [          0, -1610612736,           0,  1241513984],\n",
       "         [-1610612736,  -369098752, -1610612736,           0],\n",
       "         [  704643072,  -369098752,  1241513984,   704643072]]]],\n",
       "      dtype=int32)"
      ]
     },
     "execution_count": 99,
     "metadata": {},
     "output_type": "execute_result"
    }
   ],
   "source": [
    "np.multiply.accumulate(cl3)"
   ]
  },
  {
   "cell_type": "code",
   "execution_count": 100,
   "metadata": {},
   "outputs": [
    {
     "data": {
      "text/plain": [
       "256"
      ]
     },
     "execution_count": 100,
     "metadata": {},
     "output_type": "execute_result"
    }
   ],
   "source": [
    "cl3.size"
   ]
  },
  {
   "cell_type": "code",
   "execution_count": 101,
   "metadata": {},
   "outputs": [
    {
     "data": {
      "text/plain": [
       "(4, 4, 4, 4)"
      ]
     },
     "execution_count": 101,
     "metadata": {},
     "output_type": "execute_result"
    }
   ],
   "source": [
    "cl3.shape"
   ]
  },
  {
   "cell_type": "code",
   "execution_count": 102,
   "metadata": {},
   "outputs": [
    {
     "data": {
      "text/plain": [
       "4"
      ]
     },
     "execution_count": 102,
     "metadata": {},
     "output_type": "execute_result"
    }
   ],
   "source": [
    "cl3.ndim"
   ]
  },
  {
   "cell_type": "code",
   "execution_count": 103,
   "metadata": {},
   "outputs": [
    {
     "data": {
      "text/plain": [
       "dtype('int32')"
      ]
     },
     "execution_count": 103,
     "metadata": {},
     "output_type": "execute_result"
    }
   ],
   "source": [
    "cl3.dtype"
   ]
  },
  {
   "cell_type": "code",
   "execution_count": 104,
   "metadata": {},
   "outputs": [
    {
     "name": "stdout",
     "output_type": "stream",
     "text": [
      "[[2 3]\n",
      " [4 5]]\n"
     ]
    }
   ],
   "source": [
    "rx = np.matrix('{} {} ; {} {}'.format(2, 3, 4, 5))\n",
    "print(rx)"
   ]
  },
  {
   "cell_type": "code",
   "execution_count": 105,
   "metadata": {},
   "outputs": [
    {
     "data": {
      "text/plain": [
       "7"
      ]
     },
     "execution_count": 105,
     "metadata": {},
     "output_type": "execute_result"
    }
   ],
   "source": [
    "np.trace(rx) # جمع قيم القطر الرئيسي"
   ]
  },
  {
   "cell_type": "code",
   "execution_count": 106,
   "metadata": {},
   "outputs": [
    {
     "data": {
      "text/plain": [
       "-2.0"
      ]
     },
     "execution_count": 106,
     "metadata": {},
     "output_type": "execute_result"
    }
   ],
   "source": [
    "np.linalg.det(rx) #value"
   ]
  },
  {
   "cell_type": "code",
   "execution_count": 107,
   "metadata": {},
   "outputs": [
    {
     "data": {
      "text/plain": [
       "8.473630541934195e+16"
      ]
     },
     "execution_count": 107,
     "metadata": {},
     "output_type": "execute_result"
    }
   ],
   "source": [
    "np.linalg.det(cl1) #value"
   ]
  },
  {
   "cell_type": "code",
   "execution_count": 108,
   "metadata": {},
   "outputs": [
    {
     "data": {
      "text/plain": [
       "(array([-0.27491722,  7.27491722]), matrix([[-0.79681209, -0.49436913],\n",
       "         [ 0.60422718, -0.86925207]]))"
      ]
     },
     "execution_count": 108,
     "metadata": {},
     "output_type": "execute_result"
    }
   ],
   "source": [
    "np.linalg.eig(rx) #eigan value"
   ]
  },
  {
   "cell_type": "code",
   "execution_count": 109,
   "metadata": {},
   "outputs": [
    {
     "data": {
      "text/plain": [
       "matrix([[4, 5]])"
      ]
     },
     "execution_count": 109,
     "metadata": {},
     "output_type": "execute_result"
    }
   ],
   "source": [
    "#index in arrays = index in lists\n",
    "rx[1]"
   ]
  },
  {
   "cell_type": "code",
   "execution_count": 110,
   "metadata": {},
   "outputs": [
    {
     "data": {
      "text/plain": [
       "array([[36,  6, 28, 16],\n",
       "       [10,  6, 30, 10]])"
      ]
     },
     "execution_count": 110,
     "metadata": {},
     "output_type": "execute_result"
    }
   ],
   "source": [
    "cl2[2:4]"
   ]
  },
  {
   "cell_type": "code",
   "execution_count": 111,
   "metadata": {},
   "outputs": [
    {
     "data": {
      "text/plain": [
       "array([[[[ 131072,   24576,   40960,   73728],\n",
       "         [  65536,  114688,   98304,  139264],\n",
       "         [ 147456,   24576,  114688,   65536],\n",
       "         [  40960,   24576,  122880,   40960]],\n",
       "\n",
       "        [[ 702464,  131712,  219520,  395136],\n",
       "         [ 351232,  614656,  526848,  746368],\n",
       "         [ 790272,  131712,  614656,  351232],\n",
       "         [ 219520,  131712,  658560,  219520]],\n",
       "\n",
       "        [[ 442368,   82944,  138240,  248832],\n",
       "         [ 221184,  387072,  331776,  470016],\n",
       "         [ 497664,   82944,  387072,  221184],\n",
       "         [ 138240,   82944,  414720,  138240]],\n",
       "\n",
       "        [[1257728,  235824,  393040,  707472],\n",
       "         [ 628864, 1100512,  943296, 1336336],\n",
       "         [1414944,  235824, 1100512,  628864],\n",
       "         [ 393040,  235824, 1179120,  393040]]],\n",
       "\n",
       "\n",
       "       [[[  32000,    6000,   10000,   18000],\n",
       "         [  16000,   28000,   24000,   34000],\n",
       "         [  36000,    6000,   28000,   16000],\n",
       "         [  10000,    6000,   30000,   10000]],\n",
       "\n",
       "        [[   6912,    1296,    2160,    3888],\n",
       "         [   3456,    6048,    5184,    7344],\n",
       "         [   7776,    1296,    6048,    3456],\n",
       "         [   2160,    1296,    6480,    2160]],\n",
       "\n",
       "        [[ 864000,  162000,  270000,  486000],\n",
       "         [ 432000,  756000,  648000,  918000],\n",
       "         [ 972000,  162000,  756000,  432000],\n",
       "         [ 270000,  162000,  810000,  270000]],\n",
       "\n",
       "        [[  32000,    6000,   10000,   18000],\n",
       "         [  16000,   28000,   24000,   34000],\n",
       "         [  36000,    6000,   28000,   16000],\n",
       "         [  10000,    6000,   30000,   10000]]]])"
      ]
     },
     "execution_count": 111,
     "metadata": {},
     "output_type": "execute_result"
    }
   ],
   "source": [
    "cl3[1:12:2]"
   ]
  },
  {
   "cell_type": "code",
   "execution_count": 112,
   "metadata": {},
   "outputs": [
    {
     "data": {
      "text/plain": [
       "array([16, 28, 24, 34])"
      ]
     },
     "execution_count": 112,
     "metadata": {},
     "output_type": "execute_result"
    }
   ],
   "source": [
    "cl2[-3] "
   ]
  },
  {
   "cell_type": "code",
   "execution_count": 113,
   "metadata": {},
   "outputs": [
    {
     "data": {
      "text/plain": [
       "5832"
      ]
     },
     "execution_count": 113,
     "metadata": {},
     "output_type": "execute_result"
    }
   ],
   "source": [
    "cl1[0, 3]"
   ]
  },
  {
   "cell_type": "code",
   "execution_count": 114,
   "metadata": {},
   "outputs": [
    {
     "data": {
      "text/plain": [
       "array([10, 24, 28, 30])"
      ]
     },
     "execution_count": 114,
     "metadata": {},
     "output_type": "execute_result"
    }
   ],
   "source": [
    "cl2[:, 2] #2D"
   ]
  },
  {
   "cell_type": "code",
   "execution_count": 115,
   "metadata": {},
   "outputs": [
    {
     "data": {
      "text/plain": [
       "array([10,  6, 30, 10])"
      ]
     },
     "execution_count": 115,
     "metadata": {},
     "output_type": "execute_result"
    }
   ],
   "source": [
    "cl2[3,:] #2D"
   ]
  },
  {
   "cell_type": "code",
   "execution_count": 116,
   "metadata": {},
   "outputs": [
    {
     "data": {
      "text/plain": [
       "array([[442368,  82944, 138240, 248832],\n",
       "       [221184, 387072, 331776, 470016],\n",
       "       [497664,  82944, 387072, 221184],\n",
       "       [138240,  82944, 414720, 138240]])"
      ]
     },
     "execution_count": 116,
     "metadata": {},
     "output_type": "execute_result"
    }
   ],
   "source": [
    "cl3[1,2]   #4D"
   ]
  },
  {
   "cell_type": "code",
   "execution_count": 117,
   "metadata": {},
   "outputs": [
    {
     "data": {
      "text/plain": [
       "array([2160, 1296, 6480, 2160])"
      ]
     },
     "execution_count": 117,
     "metadata": {},
     "output_type": "execute_result"
    }
   ],
   "source": [
    "cl3[2, 1, 3]  #4D"
   ]
  },
  {
   "cell_type": "code",
   "execution_count": 118,
   "metadata": {},
   "outputs": [
    {
     "data": {
      "text/plain": [
       "470016"
      ]
     },
     "execution_count": 118,
     "metadata": {},
     "output_type": "execute_result"
    }
   ],
   "source": [
    "cl3[1, 2, 1, 3]  #4D"
   ]
  },
  {
   "cell_type": "code",
   "execution_count": 123,
   "metadata": {},
   "outputs": [
    {
     "name": "stdout",
     "output_type": "stream",
     "text": [
      "[[0.77222493 0.44469879 0.91573194 0.50658227 0.21844743 0.04583747]\n",
      " [0.29393172 0.47174968 0.58932516 0.97138906 0.9608056  0.33976579]\n",
      " [0.85985979 0.03242621 0.27931008 0.13730714 0.81945829 0.33237913]\n",
      " [0.24441528 0.1324983  0.03878594 0.08865278 0.30403916 0.55259879]\n",
      " [0.02850578 0.77856831 0.1056334  0.25278421 0.7914477  0.12690947]\n",
      " [0.29149183 0.52238028 0.25015117 0.18414684 0.45859673 0.62656534]]\n"
     ]
    }
   ],
   "source": [
    "c22 = np.random.random(36).reshape(6, 6)\n",
    "print(c22)"
   ]
  },
  {
   "cell_type": "code",
   "execution_count": 124,
   "metadata": {},
   "outputs": [
    {
     "data": {
      "text/plain": [
       "array([[0.29393172, 0.47174968, 0.58932516, 0.97138906, 0.9608056 ,\n",
       "        0.33976579],\n",
       "       [0.24441528, 0.1324983 , 0.03878594, 0.08865278, 0.30403916,\n",
       "        0.55259879]])"
      ]
     },
     "execution_count": 124,
     "metadata": {},
     "output_type": "execute_result"
    }
   ],
   "source": [
    "c22[1:4:2] #index with 2step"
   ]
  },
  {
   "cell_type": "code",
   "execution_count": 125,
   "metadata": {},
   "outputs": [
    {
     "data": {
      "text/plain": [
       "array([[0.77222493, 0.91573194, 0.21844743],\n",
       "       [0.85985979, 0.27931008, 0.81945829],\n",
       "       [0.02850578, 0.1056334 , 0.7914477 ]])"
      ]
     },
     "execution_count": 125,
     "metadata": {},
     "output_type": "execute_result"
    }
   ],
   "source": [
    "c22[::2, :5:2]"
   ]
  },
  {
   "cell_type": "code",
   "execution_count": 126,
   "metadata": {},
   "outputs": [
    {
     "name": "stdout",
     "output_type": "stream",
     "text": [
      "[[1. 1. 1. 1. 1. 1.]\n",
      " [1. 1. 1. 1. 1. 1.]\n",
      " [1. 1. 1. 1. 1. 1.]\n",
      " [1. 1. 1. 1. 1. 1.]\n",
      " [1. 1. 1. 1. 1. 1.]\n",
      " [1. 1. 1. 1. 1. 1.]]\n"
     ]
    }
   ],
   "source": [
    "c22[:, :] = 1\n",
    "print(c22)"
   ]
  },
  {
   "cell_type": "code",
   "execution_count": 127,
   "metadata": {},
   "outputs": [
    {
     "name": "stdout",
     "output_type": "stream",
     "text": [
      "[[1.   1.   1.   1.   1.   1.  ]\n",
      " [1.   1.   1.   1.   1.   1.  ]\n",
      " [1.   2.55 1.   2.55 1.   1.  ]\n",
      " [1.   2.55 1.   2.55 1.   1.  ]\n",
      " [1.   1.   1.   1.   1.   1.  ]\n",
      " [1.   1.   1.   1.   1.   1.  ]]\n"
     ]
    }
   ],
   "source": [
    "c22[2:4, 1:5:2] = 2.55\n",
    "print(c22)"
   ]
  },
  {
   "cell_type": "code",
   "execution_count": 129,
   "metadata": {},
   "outputs": [
    {
     "name": "stdout",
     "output_type": "stream",
     "text": [
      "[[1.   1.  ]\n",
      " [2.55 2.55]\n",
      " [1.   1.  ]]\n"
     ]
    }
   ],
   "source": [
    "c23 = c22[::2, 1:5:2].copy()\n",
    "print(c23)"
   ]
  },
  {
   "cell_type": "code",
   "execution_count": 137,
   "metadata": {},
   "outputs": [
    {
     "name": "stdout",
     "output_type": "stream",
     "text": [
      "s1 :  [543 353 968  64]  \n",
      "s2 :  [844 804 267 355]  \n",
      "s3 :  [265 989 362 654 190]\n"
     ]
    }
   ],
   "source": [
    "s = [543, 353, 968, 64, 844, 804, 267, 355, 265, 989, 362, 654, 190]\n",
    "s1, s2, s3 = np.split(s, (4,8))\n",
    "print('s1 : ', s1, ' \\ns2 : ', s2, ' \\ns3 : ', s3)"
   ]
  },
  {
   "cell_type": "code",
   "execution_count": 140,
   "metadata": {},
   "outputs": [
    {
     "data": {
      "text/plain": [
       "2.55"
      ]
     },
     "execution_count": 140,
     "metadata": {},
     "output_type": "execute_result"
    }
   ],
   "source": [
    "c23[1][0]"
   ]
  },
  {
   "cell_type": "code",
   "execution_count": 142,
   "metadata": {},
   "outputs": [
    {
     "name": "stdout",
     "output_type": "stream",
     "text": [
      "[[543 353 968  64]\n",
      " [844 804 267 355]]\n"
     ]
    }
   ],
   "source": [
    "s4 = np.vstack((s1, s2)) #vertical stack\n",
    "print(s4)"
   ]
  },
  {
   "cell_type": "code",
   "execution_count": 146,
   "metadata": {},
   "outputs": [
    {
     "name": "stdout",
     "output_type": "stream",
     "text": [
      "[844 804 267 355 265 989 362 654 190]\n"
     ]
    }
   ],
   "source": [
    "s5 = np.hstack((s2,s3)) #horizontal stack\n",
    "print(s5)"
   ]
  },
  {
   "cell_type": "code",
   "execution_count": 152,
   "metadata": {},
   "outputs": [
    {
     "name": "stdout",
     "output_type": "stream",
     "text": [
      "[[25 29 18  9 13 26 13 49 36 27]\n",
      " [27  9 21 23 25 51 42 40 13 56]\n",
      " [18 22  6 11 17 15 19 45 40 52]\n",
      " [28  8 19 28 22 13 14 25 26 55]\n",
      " [10 25  5 11 24 27 58 46 28 48]]\n"
     ]
    }
   ],
   "source": [
    "co1 = np.random.randint(5, 30, size=25).reshape(5, 5)\n",
    "co2 = np.random.randint(10, 60, size=25).reshape(5, 5)\n",
    "co12 = np.concatenate([co1, co2], axis=1)\n",
    "print(co12)"
   ]
  },
  {
   "cell_type": "code",
   "execution_count": 153,
   "metadata": {},
   "outputs": [
    {
     "name": "stdout",
     "output_type": "stream",
     "text": [
      "[[25 29 18  9 13]\n",
      " [27  9 21 23 25]\n",
      " [18 22  6 11 17]\n",
      " [28  8 19 28 22]\n",
      " [10 25  5 11 24]\n",
      " [26 13 49 36 27]\n",
      " [51 42 40 13 56]\n",
      " [15 19 45 40 52]\n",
      " [13 14 25 26 55]\n",
      " [27 58 46 28 48]]\n"
     ]
    }
   ],
   "source": [
    "co21 = np.concatenate([co1, co2], axis=0)\n",
    "print(co21)"
   ]
  },
  {
   "cell_type": "code",
   "execution_count": 156,
   "metadata": {},
   "outputs": [
    {
     "name": "stdout",
     "output_type": "stream",
     "text": [
      "max :  58 \n",
      "min :  5 \n",
      "argmax :  46 \n",
      "argmin :  22\n"
     ]
    }
   ],
   "source": [
    "mx = np.max(co12)\n",
    "mn = np.min(co21)\n",
    "armx = np.argmax(co12)\n",
    "armn = np.argmin(co21)\n",
    "print('max : ', mx, '\\nmin : ', mn, '\\nargmax : ', armx, '\\nargmin : ', armn)"
   ]
  },
  {
   "cell_type": "code",
   "execution_count": 159,
   "metadata": {},
   "outputs": [
    {
     "name": "stdout",
     "output_type": "stream",
     "text": [
      "variance :  207.5444 \n",
      "covariance : \n",
      " [[145.38888889  15.16666667 133.27777778  16.33333333  64.55555556]\n",
      " [ 15.16666667 250.01111111  84.61111111  87.04444444 166.73333333]\n",
      " [133.27777778  84.61111111 240.72222222 125.66666667 174.77777778]\n",
      " [ 16.33333333  87.04444444 125.66666667 167.06666667  42.26666667]\n",
      " [ 64.55555556 166.73333333 174.77777778  42.26666667 310.17777778]]\n"
     ]
    }
   ],
   "source": [
    "print('variance : ', np.var(co12), '\\ncovariance : \\n', np.cov(co12))"
   ]
  },
  {
   "cell_type": "code",
   "execution_count": 161,
   "metadata": {},
   "outputs": [
    {
     "data": {
      "text/plain": [
       "array([[51, 42, 67, 45, 40],\n",
       "       [78, 51, 61, 36, 81],\n",
       "       [33, 41, 51, 51, 69],\n",
       "       [41, 22, 44, 54, 77],\n",
       "       [37, 83, 51, 39, 72]])"
      ]
     },
     "execution_count": 161,
     "metadata": {},
     "output_type": "execute_result"
    }
   ],
   "source": [
    "co1 + co2"
   ]
  },
  {
   "cell_type": "code",
   "execution_count": 162,
   "metadata": {},
   "outputs": [
    {
     "data": {
      "text/plain": [
       "array([[ -1,  16, -31, -27, -14],\n",
       "       [-24, -33, -19,  10, -31],\n",
       "       [  3,   3, -39, -29, -35],\n",
       "       [ 15,  -6,  -6,   2, -33],\n",
       "       [-17, -33, -41, -17, -24]])"
      ]
     },
     "execution_count": 162,
     "metadata": {},
     "output_type": "execute_result"
    }
   ],
   "source": [
    "co1 - co2"
   ]
  },
  {
   "cell_type": "code",
   "execution_count": 163,
   "metadata": {},
   "outputs": [
    {
     "data": {
      "text/plain": [
       "array([[ 650,  377,  882,  324,  351],\n",
       "       [1377,  378,  840,  299, 1400],\n",
       "       [ 270,  418,  270,  440,  884],\n",
       "       [ 364,  112,  475,  728, 1210],\n",
       "       [ 270, 1450,  230,  308, 1152]])"
      ]
     },
     "execution_count": 163,
     "metadata": {},
     "output_type": "execute_result"
    }
   ],
   "source": [
    "co1 * co2"
   ]
  },
  {
   "cell_type": "code",
   "execution_count": 164,
   "metadata": {},
   "outputs": [
    {
     "data": {
      "text/plain": [
       "array([[0.96153846, 2.23076923, 0.36734694, 0.25      , 0.48148148],\n",
       "       [0.52941176, 0.21428571, 0.525     , 1.76923077, 0.44642857],\n",
       "       [1.2       , 1.15789474, 0.13333333, 0.275     , 0.32692308],\n",
       "       [2.15384615, 0.57142857, 0.76      , 1.07692308, 0.4       ],\n",
       "       [0.37037037, 0.43103448, 0.10869565, 0.39285714, 0.5       ]])"
      ]
     },
     "execution_count": 164,
     "metadata": {},
     "output_type": "execute_result"
    }
   ],
   "source": [
    "co1 / co2"
   ]
  },
  {
   "cell_type": "code",
   "execution_count": 166,
   "metadata": {},
   "outputs": [
    {
     "data": {
      "text/plain": [
       "array([[-0.13235175, -0.66363388, -0.75098725,  0.41211849,  0.42016704],\n",
       "       [ 0.95637593,  0.41211849,  0.83665564, -0.8462204 , -0.13235175],\n",
       "       [-0.75098725, -0.00885131, -0.2794155 , -0.99999021, -0.96139749],\n",
       "       [ 0.27090579,  0.98935825,  0.14987721,  0.27090579, -0.00885131],\n",
       "       [-0.54402111, -0.13235175, -0.95892427, -0.99999021, -0.90557836]])"
      ]
     },
     "execution_count": 166,
     "metadata": {},
     "output_type": "execute_result"
    }
   ],
   "source": [
    "np.sin(co1)"
   ]
  },
  {
   "cell_type": "code",
   "execution_count": 167,
   "metadata": {},
   "outputs": [
    {
     "data": {
      "text/plain": [
       "array([[3.25809654, 2.56494936, 3.8918203 , 3.58351894, 3.29583687],\n",
       "       [3.93182563, 3.73766962, 3.68887945, 2.56494936, 4.02535169],\n",
       "       [2.7080502 , 2.94443898, 3.80666249, 3.68887945, 3.95124372],\n",
       "       [2.56494936, 2.63905733, 3.21887582, 3.25809654, 4.00733319],\n",
       "       [3.29583687, 4.06044301, 3.8286414 , 3.33220451, 3.87120101]])"
      ]
     },
     "execution_count": 167,
     "metadata": {},
     "output_type": "execute_result"
    }
   ],
   "source": [
    "np.log(co2)"
   ]
  },
  {
   "cell_type": "code",
   "execution_count": 168,
   "metadata": {},
   "outputs": [
    {
     "data": {
      "text/plain": [
       "array([[ 0.64691932,  0.90744678,  0.30059254, -0.12796369, -0.29213881],\n",
       "       [ 0.7421542 , -0.39998531, -0.66693806,  0.90744678,  0.85322011],\n",
       "       [-0.75968791,  0.98870462,  0.52532199, -0.66693806, -0.16299078],\n",
       "       [ 0.90744678,  0.13673722,  0.99120281,  0.64691932,  0.02212676],\n",
       "       [-0.29213881,  0.11918014, -0.43217794, -0.96260587, -0.64014434]])"
      ]
     },
     "execution_count": 168,
     "metadata": {},
     "output_type": "execute_result"
    }
   ],
   "source": [
    "np.cos(co2)"
   ]
  },
  {
   "cell_type": "code",
   "execution_count": 169,
   "metadata": {},
   "outputs": [
    {
     "data": {
      "text/plain": [
       "array([[7.20048993e+10, 3.93133430e+12, 6.56599691e+07, 8.10308393e+03,\n",
       "        4.42413392e+05],\n",
       "       [5.32048241e+11, 8.10308393e+03, 1.31881573e+09, 9.74480345e+09,\n",
       "        7.20048993e+10],\n",
       "       [6.56599691e+07, 3.58491285e+09, 4.03428793e+02, 5.98741417e+04,\n",
       "        2.41549528e+07],\n",
       "       [1.44625706e+12, 2.98095799e+03, 1.78482301e+08, 1.44625706e+12,\n",
       "        3.58491285e+09],\n",
       "       [2.20264658e+04, 7.20048993e+10, 1.48413159e+02, 5.98741417e+04,\n",
       "        2.64891221e+10]])"
      ]
     },
     "execution_count": 169,
     "metadata": {},
     "output_type": "execute_result"
    }
   ],
   "source": [
    "np.exp(co1)"
   ]
  },
  {
   "cell_type": "code",
   "execution_count": 170,
   "metadata": {},
   "outputs": [
    {
     "data": {
      "text/plain": [
       "array([[104,  52, 196, 144, 108],\n",
       "       [204, 168, 160,  52, 224],\n",
       "       [ 60,  76, 180, 160, 208],\n",
       "       [ 52,  56, 100, 104, 220],\n",
       "       [108, 232, 184, 112, 192]])"
      ]
     },
     "execution_count": 170,
     "metadata": {},
     "output_type": "execute_result"
    }
   ],
   "source": [
    "co2 * 4"
   ]
  },
  {
   "cell_type": "code",
   "execution_count": 171,
   "metadata": {},
   "outputs": [
    {
     "data": {
      "text/plain": [
       "array([[5. , 5.8, 3.6, 1.8, 2.6],\n",
       "       [5.4, 1.8, 4.2, 4.6, 5. ],\n",
       "       [3.6, 4.4, 1.2, 2.2, 3.4],\n",
       "       [5.6, 1.6, 3.8, 5.6, 4.4],\n",
       "       [2. , 5. , 1. , 2.2, 4.8]])"
      ]
     },
     "execution_count": 171,
     "metadata": {},
     "output_type": "execute_result"
    }
   ],
   "source": [
    "co1 / 5"
   ]
  },
  {
   "cell_type": "code",
   "execution_count": 172,
   "metadata": {},
   "outputs": [
    {
     "data": {
      "text/plain": [
       "array([[ 17576,   2197, 117649,  46656,  19683],\n",
       "       [132651,  74088,  64000,   2197, 175616],\n",
       "       [  3375,   6859,  91125,  64000, 140608],\n",
       "       [  2197,   2744,  15625,  17576, 166375],\n",
       "       [ 19683, 195112,  97336,  21952, 110592]], dtype=int32)"
      ]
     },
     "execution_count": 172,
     "metadata": {},
     "output_type": "execute_result"
    }
   ],
   "source": [
    "co2 ** 3"
   ]
  },
  {
   "cell_type": "code",
   "execution_count": 173,
   "metadata": {},
   "outputs": [
    {
     "data": {
      "text/plain": [
       "array([[2867, 2765, 4018, 2595, 4354],\n",
       "       [2450, 2900, 4353, 3227, 4790],\n",
       "       [2282, 2412, 3089, 1936, 3451],\n",
       "       [2379, 2729, 4259, 3216, 4788],\n",
       "       [2401, 2821, 3094, 1843, 3687]])"
      ]
     },
     "execution_count": 173,
     "metadata": {},
     "output_type": "execute_result"
    }
   ],
   "source": [
    "np.dot(co1, co2) #كل سطر يضرب بالعمود المقابل \n",
    "#+row1 * +col1 ...etc  ros == cols"
   ]
  },
  {
   "cell_type": "code",
   "execution_count": 174,
   "metadata": {},
   "outputs": [
    {
     "data": {
      "text/plain": [
       "453"
      ]
     },
     "execution_count": 174,
     "metadata": {},
     "output_type": "execute_result"
    }
   ],
   "source": [
    "np.sum(co1)"
   ]
  },
  {
   "cell_type": "code",
   "execution_count": 179,
   "metadata": {},
   "outputs": [
    {
     "data": {
      "text/plain": [
       "453"
      ]
     },
     "execution_count": 179,
     "metadata": {},
     "output_type": "execute_result"
    }
   ],
   "source": [
    "co1.sum()"
   ]
  },
  {
   "cell_type": "code",
   "execution_count": 177,
   "metadata": {},
   "outputs": [
    {
     "data": {
      "text/plain": [
       "array([151, 202, 171, 133, 207])"
      ]
     },
     "execution_count": 177,
     "metadata": {},
     "output_type": "execute_result"
    }
   ],
   "source": [
    "co2.sum(axis=1)"
   ]
  },
  {
   "cell_type": "code",
   "execution_count": 178,
   "metadata": {},
   "outputs": [
    {
     "data": {
      "text/plain": [
       "array([108,  93,  69,  82, 101])"
      ]
     },
     "execution_count": 178,
     "metadata": {},
     "output_type": "execute_result"
    }
   ],
   "source": [
    "co1.sum(axis=0)"
   ]
  },
  {
   "cell_type": "code",
   "execution_count": 180,
   "metadata": {},
   "outputs": [
    {
     "data": {
      "text/plain": [
       "56.58559999999999"
      ]
     },
     "execution_count": 180,
     "metadata": {},
     "output_type": "execute_result"
    }
   ],
   "source": [
    "co1.var()"
   ]
  },
  {
   "cell_type": "code",
   "execution_count": 181,
   "metadata": {},
   "outputs": [
    {
     "data": {
      "text/plain": [
       "14.9454474673728"
      ]
     },
     "execution_count": 181,
     "metadata": {},
     "output_type": "execute_result"
    }
   ],
   "source": [
    "co2.std()"
   ]
  },
  {
   "cell_type": "code",
   "execution_count": 182,
   "metadata": {},
   "outputs": [
    {
     "data": {
      "text/plain": [
       "18.12"
      ]
     },
     "execution_count": 182,
     "metadata": {},
     "output_type": "execute_result"
    }
   ],
   "source": [
    "co1.mean()"
   ]
  },
  {
   "cell_type": "code",
   "execution_count": 184,
   "metadata": {},
   "outputs": [
    {
     "data": {
      "text/plain": [
       "array([[ 1.        , -0.32480045,  0.59922353,  0.16501544, -0.33020228],\n",
       "       [-0.32480045,  1.        , -0.10424773,  0.26154169,  0.38102032],\n",
       "       [ 0.59922353, -0.10424773,  1.        ,  0.84514481,  0.12897629],\n",
       "       [ 0.16501544,  0.26154169,  0.84514481,  1.        ,  0.19088077],\n",
       "       [-0.33020228,  0.38102032,  0.12897629,  0.19088077,  1.        ]])"
      ]
     },
     "execution_count": 184,
     "metadata": {},
     "output_type": "execute_result"
    }
   ],
   "source": [
    "np.corrcoef(co2)"
   ]
  },
  {
   "cell_type": "code",
   "execution_count": 185,
   "metadata": {},
   "outputs": [
    {
     "data": {
      "text/plain": [
       "array([[ 9, 13, 18, 25, 29],\n",
       "       [ 9, 21, 23, 25, 27],\n",
       "       [ 6, 11, 17, 18, 22],\n",
       "       [ 8, 19, 22, 28, 28],\n",
       "       [ 5, 10, 11, 24, 25]])"
      ]
     },
     "execution_count": 185,
     "metadata": {},
     "output_type": "execute_result"
    }
   ],
   "source": [
    "np.sort(co1, axis=1)"
   ]
  },
  {
   "cell_type": "code",
   "execution_count": 186,
   "metadata": {},
   "outputs": [
    {
     "data": {
      "text/plain": [
       "array([[13, 13, 25, 13, 27],\n",
       "       [15, 14, 40, 26, 48],\n",
       "       [26, 19, 45, 28, 52],\n",
       "       [27, 42, 46, 36, 55],\n",
       "       [51, 58, 49, 40, 56]])"
      ]
     },
     "execution_count": 186,
     "metadata": {},
     "output_type": "execute_result"
    }
   ],
   "source": [
    "np.sort(co2, axis=0)"
   ]
  },
  {
   "cell_type": "code",
   "execution_count": 187,
   "metadata": {},
   "outputs": [
    {
     "data": {
      "text/plain": [
       "array([[-0.0345629 ,  0.07138458,  0.16550557, -0.06975434, -0.108929  ],\n",
       "       [ 0.03864936, -0.07704695, -0.03848815,  0.04996323,  0.04078498],\n",
       "       [ 0.06781436,  0.01684943, -0.15723482,  0.00578916,  0.05178366],\n",
       "       [ 0.01394217, -0.1527408 , -0.07949774,  0.16607616,  0.05562741],\n",
       "       [-0.0463767 ,  0.11700956,  0.04032489, -0.10030504,  0.00828524]])"
      ]
     },
     "execution_count": 187,
     "metadata": {},
     "output_type": "execute_result"
    }
   ],
   "source": [
    "np.linalg.inv(co1 #معكوس المصفوفة"
   ]
  },
  {
   "cell_type": "code",
   "execution_count": 205,
   "metadata": {},
   "outputs": [
    {
     "name": "stdout",
     "output_type": "stream",
     "text": [
      "[(b'F', 23) (b'M', 33) (b'M', 43) (b'F', 19) (b'F', 40) (b'M', 52)\n",
      " (b'F', 22) (b'F', 19) (b'F', 28) (b'M', 25) (b'F', 31) (b'M', 53)\n",
      " (b'M', 42) (b'F', 21)]\n"
     ]
    }
   ],
   "source": [
    "file_path = \"C:\\\\Users\\\\asus_r\\\\AnacondaProjects\\\\Python Science Libraries\\\\data.txt\"\n",
    "data_type = np.dtype([('Gender', '|S1'), ('Old', 'i2')])\n",
    "data = np.loadtxt(file_path, data_type, skiprows=6, usecols=(0,1))\n",
    "print(data)"
   ]
  },
  {
   "cell_type": "code",
   "execution_count": null,
   "metadata": {},
   "outputs": [],
   "source": []
  }
 ],
 "metadata": {
  "kernelspec": {
   "display_name": "Python 3",
   "language": "python",
   "name": "python3"
  },
  "language_info": {
   "codemirror_mode": {
    "name": "ipython",
    "version": 3
   },
   "file_extension": ".py",
   "mimetype": "text/x-python",
   "name": "python",
   "nbconvert_exporter": "python",
   "pygments_lexer": "ipython3",
   "version": "3.7.6"
  }
 },
 "nbformat": 4,
 "nbformat_minor": 2
}
